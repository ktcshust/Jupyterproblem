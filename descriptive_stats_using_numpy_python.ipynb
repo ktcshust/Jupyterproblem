{
 "cells": [
  {
   "cell_type": "code",
   "execution_count": 1,
   "metadata": {},
   "outputs": [
    {
     "name": "stderr",
     "output_type": "stream",
     "text": [
      "C:\\Users\\erima96\\.conda\\envs\\RPY3\\lib\\site-packages\\ipykernel_launcher.py:4: VisibleDeprecationWarning: Reading unicode strings without specifying the encoding argument is deprecated. Set the encoding, use None for the system default.\n",
      "  after removing the cwd from sys.path.\n"
     ]
    }
   ],
   "source": [
    "import numpy as np\n",
    "\n",
    "data_file = 'https://vincentarelbundock.github.io/Rdatasets/csv/datasets/ToothGrowth.csv'\n",
    "data = np.genfromtxt(data_file, names=True,\n",
    "                     delimiter=\",\", dtype=None)"
   ]
  },
  {
   "cell_type": "code",
   "execution_count": 3,
   "metadata": {},
   "outputs": [],
   "source": [
    "summary_stats = []\n",
    "for supp_lvl in np.unique(data['supp']):\n",
    "    \n",
    "    for dose_lvl in np.unique(data['dose']):\n",
    "    \n",
    "        # Subsetting\n",
    "        data_to_sum = data[(data['supp'] == supp_lvl) & (data['dose'] == dose_lvl)]\n",
    "        # Calculating the descriptives\n",
    "        mean = data_to_sum['len'].mean()\n",
    "        sd = data_to_sum['len'].std()\n",
    "        max_supp = data_to_sum['len'].max()\n",
    "        min_supp =  data_to_sum['len'].min()\n",
    "        ps = np.percentile(data_to_sum['len'], [25, 75] )\n",
    "        summary_stats.append((mean, sd, max_supp, min_supp, ps[0], ps[1], supp_lvl, dose_lvl))"
   ]
  },
  {
   "cell_type": "code",
   "execution_count": 4,
   "metadata": {},
   "outputs": [
    {
     "name": "stdout",
     "output_type": "stream",
     "text": [
      "[[b'13.229999999999999' b'4.230850978231212' b'21.5' b'8.2' b'9.7'\n",
      "  b'16.175' b'\"OJ\"' b'0.5']\n",
      " [b'22.7' b'3.7102560558538276' b'27.3' b'14.5' b'20.3'\n",
      "  b'25.650000000000002' b'\"OJ\"' b'1.0']\n",
      " [b'26.060000000000002' b'2.5188092424794695' b'30.9' b'22.4' b'24.575'\n",
      "  b'27.075000000000003' b'\"OJ\"' b'2.0']\n",
      " [b'7.9799999999999995' b'2.605686090073015' b'11.5' b'4.2'\n",
      "  b'5.949999999999999' b'10.899999999999999' b'\"VC\"' b'0.5']\n",
      " [b'16.770000000000003' b'2.386231338324095' b'22.5' b'13.6'\n",
      "  b'15.274999999999999' b'17.3' b'\"VC\"' b'1.0']\n",
      " [b'26.139999999999997' b'4.551527216220946' b'33.9' b'18.5' b'23.375'\n",
      "  b'28.8' b'\"VC\"' b'2.0']]\n"
     ]
    }
   ],
   "source": [
    "results = np.array(summary_stats, dtype=None)\n",
    "np.set_printoptions(suppress=True)\n",
    "print(results)"
   ]
  },
  {
   "cell_type": "code",
   "execution_count": null,
   "metadata": {},
   "outputs": [],
   "source": []
  }
 ],
 "metadata": {
  "kernelspec": {
   "display_name": "Python 3",
   "language": "python",
   "name": "python3"
  },
  "language_info": {
   "codemirror_mode": {
    "name": "ipython",
    "version": 3
   },
   "file_extension": ".py",
   "mimetype": "text/x-python",
   "name": "python",
   "nbconvert_exporter": "python",
   "pygments_lexer": "ipython3",
   "version": "3.7.3"
  }
 },
 "nbformat": 4,
 "nbformat_minor": 2
}
