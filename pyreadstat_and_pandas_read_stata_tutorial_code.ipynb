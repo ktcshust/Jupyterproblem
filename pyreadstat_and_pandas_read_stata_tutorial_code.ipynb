{
 "cells": [
  {
   "cell_type": "markdown",
   "metadata": {},
   "source": [
    "In this Jupyter Notebook, we will learn how to <strong>read <a href=\"https://www.stata.com/\" rel=\"noreferrer noopener\" target=\"_blank\">Stata</a> files</strong>. This is the Notebook for the blog post [https://www.marsja.se/how-to-read-stata-files-in-python-with-pandas/](https://www.marsja.se/how-to-read-stata-files-in-python-with-pandas/)"
   ]
  },
  {
   "cell_type": "markdown",
   "metadata": {},
   "source": [
    "### Table of Contents"
   ]
  },
  {
   "cell_type": "markdown",
   "metadata": {},
   "source": [
    "- <a href=\"#How_to_Open_a_Stata_file_in_Python\" title=\"How to Open a Stata file in Python\">How to Open a Stata file in Python</a><ul><li><a href=\"#How_to_Load_a_Stata_File_in_Python_Using_Pyreadstat\" title=\"How to Load a Stata File in Python Using Pyreadstat\">How to Load a Stata File in Python Using Pyreadstat</a></li><li><a href=\"#How_to_Read_a_Stata_file_with_Python_Using_Pandas\" title=\"How to Read a Stata file with Python  Using Pandas\">How to Read a Stata file with Python Using Pandas</a></li><li><a href=\"#How_to_Read_dta_Files_from_URL\" title=\"How to Read .dta Files from URL \">How to Read .dta Files from URL </a></li><li><a href=\"#Pandas_Scatter_Plot\" title=\"Pandas Scatter Plot\">Pandas Scatter Plot</a></li><li><a href=\"#How_to_Read_Specific_Columns_from_a_Stata_file\" title=\"How to Read Specific Columns from a Stata file\">How to Read Specific Columns from a Stata file</a></li></ul>\n",
    "\n",
    "- <a href=\"#How_to_Load_a_Stata_File_in_Python_Using_Pyreadstat\" title=\"How to Load a Stata File in Python Using Pyreadstat\">How to Load a Stata File in Python Using Pyreadstat</a>\n",
    "- <a href=\"#How_to_Read_a_Stata_file_with_Python_Using_Pandas\" title=\"How to Read a Stata file with Python  Using Pandas\">How to Read a Stata file with Python Using Pandas</a>\n",
    "- <a href=\"#How_to_Read_dta_Files_from_URL\" title=\"How to Read .dta Files from URL \">How to Read .dta Files from URL </a>\n",
    "- <a href=\"#Pandas_Scatter_Plot\" title=\"Pandas Scatter Plot\">Pandas Scatter Plot</a>\n",
    "- <a href=\"#How_to_Read_Specific_Columns_from_a_Stata_file\" title=\"How to Read Specific Columns from a Stata file\">How to Read Specific Columns from a Stata file</a>\n",
    "- <a href=\"#How_to_Save_a_Stata_file\" title=\"How to Save a Stata file\">How to Save a Stata file</a><ul><li><a href=\"#Saving_a_dataframe_as_a_Stata_file_using_Pyreadstat\" title=\"Saving a dataframe as a Stata file using Pyreadstat\">Saving a dataframe as a Stata file using Pyreadstat</a></li><li><a href=\"#How_to_Save_a_dataframe_as_dta_with_Pandas_to_stata\" title=\"How to Save a dataframe as .dta with Pandas to_stata\">How to Save a dataframe as .dta with Pandas to_stata</a></li></ul>\n",
    "\n",
    "- <a href=\"#Saving_a_dataframe_as_a_Stata_file_using_Pyreadstat\" title=\"Saving a dataframe as a Stata file using Pyreadstat\">Saving a dataframe as a Stata file using Pyreadstat</a>\n",
    "\n",
    "- <a href=\"#How_to_Save_a_dataframe_as_dta_with_Pandas_to_stata\" title=\"How to Save a dataframe as .dta with Pandas to_stata\">How to Save a dataframe as .dta with Pandas to_stata</a>\n",
    "\n",
    "- <a href=\"#Save_a_CSV_file_as_a_Stata_File\" title=\"Save a CSV file as a Stata File\">Save a CSV file as a Stata File</a>\n",
    "- <a href=\"#Export_an_Excel_file_as_a_Stata_File\" title=\"Export an Excel file as a Stata File\">Export an Excel file as a Stata File</a>"
   ]
  },
  {
   "cell_type": "markdown",
   "metadata": {},
   "source": [
    "## <span class=\"ez-toc-section\" id=\"How_to_Open_a_Stata_file_in_Python\">How to Open a Stata file in Python</span>"
   ]
  },
  {
   "cell_type": "markdown",
   "metadata": {},
   "source": [
    "First, we will use Pyreadstat to open a Stata file and then we will use Pandas to do the same."
   ]
  },
  {
   "cell_type": "markdown",
   "metadata": {},
   "source": [
    "### <span id=\"How_to_Load_a_Stata_File_in_Python_Using_Pyreadstat\">How to Load a Stata File in Python Using Pyreadstat</span>"
   ]
  },
  {
   "cell_type": "markdown",
   "metadata": {},
   "source": [
    "First, import pyreadstat:"
   ]
  },
  {
   "cell_type": "code",
   "execution_count": 1,
   "metadata": {},
   "outputs": [],
   "source": [
    "import pyreadstat"
   ]
  },
  {
   "cell_type": "markdown",
   "metadata": {},
   "source": [
    "Note, the FifthDaydata.dta is located in a subdirectory (i.e., “SimData”). Either you change to your .dta file or download the FifthDayData.dta and add it to a folder, you create, called SimData. Here's the folder: [https://github.com/marsja/jupyter/tree/master/SimData](https://github.com/marsja/jupyter/tree/master/SimData)"
   ]
  },
  {
   "cell_type": "code",
   "execution_count": 2,
   "metadata": {},
   "outputs": [
    {
     "data": {
      "text/html": [
       "<div>\n",
       "<style scoped>\n",
       "    .dataframe tbody tr th:only-of-type {\n",
       "        vertical-align: middle;\n",
       "    }\n",
       "\n",
       "    .dataframe tbody tr th {\n",
       "        vertical-align: top;\n",
       "    }\n",
       "\n",
       "    .dataframe thead th {\n",
       "        text-align: right;\n",
       "    }\n",
       "</style>\n",
       "<table border=\"1\" class=\"dataframe\">\n",
       "  <thead>\n",
       "    <tr style=\"text-align: right;\">\n",
       "      <th></th>\n",
       "      <th>index</th>\n",
       "      <th>ID</th>\n",
       "      <th>Name</th>\n",
       "      <th>Day</th>\n",
       "      <th>Age</th>\n",
       "      <th>Response</th>\n",
       "      <th>Gender</th>\n",
       "    </tr>\n",
       "  </thead>\n",
       "  <tbody>\n",
       "    <tr>\n",
       "      <td>0</td>\n",
       "      <td>0</td>\n",
       "      <td>1</td>\n",
       "      <td>John</td>\n",
       "      <td>Fifth</td>\n",
       "      <td>23</td>\n",
       "      <td>0.453733</td>\n",
       "      <td>0</td>\n",
       "    </tr>\n",
       "    <tr>\n",
       "      <td>1</td>\n",
       "      <td>1</td>\n",
       "      <td>2</td>\n",
       "      <td>Billie</td>\n",
       "      <td>Fifth</td>\n",
       "      <td>22</td>\n",
       "      <td>0.257360</td>\n",
       "      <td>0</td>\n",
       "    </tr>\n",
       "    <tr>\n",
       "      <td>2</td>\n",
       "      <td>2</td>\n",
       "      <td>3</td>\n",
       "      <td>Robert</td>\n",
       "      <td>Fifth</td>\n",
       "      <td>20</td>\n",
       "      <td>0.443393</td>\n",
       "      <td>0</td>\n",
       "    </tr>\n",
       "    <tr>\n",
       "      <td>3</td>\n",
       "      <td>3</td>\n",
       "      <td>4</td>\n",
       "      <td>Don</td>\n",
       "      <td>Fifth</td>\n",
       "      <td>27</td>\n",
       "      <td>0.423592</td>\n",
       "      <td>0</td>\n",
       "    </tr>\n",
       "    <tr>\n",
       "      <td>4</td>\n",
       "      <td>4</td>\n",
       "      <td>5</td>\n",
       "      <td>Joseph</td>\n",
       "      <td>Fifth</td>\n",
       "      <td>21</td>\n",
       "      <td>0.571355</td>\n",
       "      <td>0</td>\n",
       "    </tr>\n",
       "  </tbody>\n",
       "</table>\n",
       "</div>"
      ],
      "text/plain": [
       "   index  ID    Name    Day  Age  Response  Gender\n",
       "0      0   1    John  Fifth   23  0.453733       0\n",
       "1      1   2  Billie  Fifth   22  0.257360       0\n",
       "2      2   3  Robert  Fifth   20  0.443393       0\n",
       "3      3   4     Don  Fifth   27  0.423592       0\n",
       "4      4   5  Joseph  Fifth   21  0.571355       0"
      ]
     },
     "execution_count": 2,
     "metadata": {},
     "output_type": "execute_result"
    }
   ],
   "source": [
    "dtafile = './SimData/FifthDayData.dta'\n",
    "df, meta = pyreadstat.read_dta(dtafile)\n",
    "df.head()"
   ]
  },
  {
   "cell_type": "markdown",
   "metadata": {},
   "source": [
    "### <span class=\"ez-toc-section\" id=\"How_to_Read_a_Stata_file_with_Python_Using_Pandas\">How to Read a Stata file with Python Using Pandas</span>"
   ]
  },
  {
   "cell_type": "markdown",
   "metadata": {},
   "source": [
    "Now we will use Pandas and start by importing pandas:"
   ]
  },
  {
   "cell_type": "code",
   "execution_count": 3,
   "metadata": {},
   "outputs": [],
   "source": [
    "import pandas as pd"
   ]
  },
  {
   "cell_type": "markdown",
   "metadata": {},
   "source": [
    "Next thing is to load the .dta file:"
   ]
  },
  {
   "cell_type": "code",
   "execution_count": 4,
   "metadata": {},
   "outputs": [
    {
     "data": {
      "text/html": [
       "<div>\n",
       "<style scoped>\n",
       "    .dataframe tbody tr th:only-of-type {\n",
       "        vertical-align: middle;\n",
       "    }\n",
       "\n",
       "    .dataframe tbody tr th {\n",
       "        vertical-align: top;\n",
       "    }\n",
       "\n",
       "    .dataframe thead th {\n",
       "        text-align: right;\n",
       "    }\n",
       "</style>\n",
       "<table border=\"1\" class=\"dataframe\">\n",
       "  <thead>\n",
       "    <tr style=\"text-align: right;\">\n",
       "      <th></th>\n",
       "      <th>index</th>\n",
       "      <th>ID</th>\n",
       "      <th>Name</th>\n",
       "      <th>Day</th>\n",
       "      <th>Age</th>\n",
       "      <th>Response</th>\n",
       "      <th>Gender</th>\n",
       "    </tr>\n",
       "  </thead>\n",
       "  <tbody>\n",
       "    <tr>\n",
       "      <td>195</td>\n",
       "      <td>195</td>\n",
       "      <td>196</td>\n",
       "      <td>Francisca</td>\n",
       "      <td>Fifth</td>\n",
       "      <td>27</td>\n",
       "      <td>0.260849</td>\n",
       "      <td>1</td>\n",
       "    </tr>\n",
       "    <tr>\n",
       "      <td>196</td>\n",
       "      <td>196</td>\n",
       "      <td>197</td>\n",
       "      <td>Nia</td>\n",
       "      <td>Fifth</td>\n",
       "      <td>20</td>\n",
       "      <td>0.431105</td>\n",
       "      <td>1</td>\n",
       "    </tr>\n",
       "    <tr>\n",
       "      <td>197</td>\n",
       "      <td>197</td>\n",
       "      <td>198</td>\n",
       "      <td>Christina</td>\n",
       "      <td>Fifth</td>\n",
       "      <td>29</td>\n",
       "      <td>0.231316</td>\n",
       "      <td>1</td>\n",
       "    </tr>\n",
       "    <tr>\n",
       "      <td>198</td>\n",
       "      <td>198</td>\n",
       "      <td>199</td>\n",
       "      <td>Marta</td>\n",
       "      <td>Fifth</td>\n",
       "      <td>26</td>\n",
       "      <td>0.424948</td>\n",
       "      <td>1</td>\n",
       "    </tr>\n",
       "    <tr>\n",
       "      <td>199</td>\n",
       "      <td>199</td>\n",
       "      <td>200</td>\n",
       "      <td>Julia</td>\n",
       "      <td>Fifth</td>\n",
       "      <td>25</td>\n",
       "      <td>0.280474</td>\n",
       "      <td>1</td>\n",
       "    </tr>\n",
       "  </tbody>\n",
       "</table>\n",
       "</div>"
      ],
      "text/plain": [
       "     index   ID       Name    Day  Age  Response  Gender\n",
       "195    195  196  Francisca  Fifth   27  0.260849       1\n",
       "196    196  197        Nia  Fifth   20  0.431105       1\n",
       "197    197  198  Christina  Fifth   29  0.231316       1\n",
       "198    198  199      Marta  Fifth   26  0.424948       1\n",
       "199    199  200      Julia  Fifth   25  0.280474       1"
      ]
     },
     "execution_count": 4,
     "metadata": {},
     "output_type": "execute_result"
    }
   ],
   "source": [
    "dtafile = './SimData/FifthDayData.dta'\n",
    "\n",
    "df = pd.read_stata(dtafile)\n",
    "df.tail()"
   ]
  },
  {
   "cell_type": "markdown",
   "metadata": {},
   "source": [
    "### <span class=\"ez-toc-section\" id=\"How_to_Read_dta_Files_from_URL\">How to Read .dta Files from URL </span>"
   ]
  },
  {
   "cell_type": "code",
   "execution_count": 5,
   "metadata": {},
   "outputs": [
    {
     "data": {
      "text/html": [
       "<div>\n",
       "<style scoped>\n",
       "    .dataframe tbody tr th:only-of-type {\n",
       "        vertical-align: middle;\n",
       "    }\n",
       "\n",
       "    .dataframe tbody tr th {\n",
       "        vertical-align: top;\n",
       "    }\n",
       "\n",
       "    .dataframe thead th {\n",
       "        text-align: right;\n",
       "    }\n",
       "</style>\n",
       "<table border=\"1\" class=\"dataframe\">\n",
       "  <thead>\n",
       "    <tr style=\"text-align: right;\">\n",
       "      <th></th>\n",
       "      <th>year</th>\n",
       "      <th>q</th>\n",
       "      <th>y</th>\n",
       "      <th>pchick</th>\n",
       "      <th>pbeef</th>\n",
       "      <th>pcor</th>\n",
       "      <th>pf</th>\n",
       "      <th>cpi</th>\n",
       "      <th>qproda</th>\n",
       "      <th>pop</th>\n",
       "      <th>meatex</th>\n",
       "      <th>time</th>\n",
       "    </tr>\n",
       "  </thead>\n",
       "  <tbody>\n",
       "    <tr>\n",
       "      <td>0</td>\n",
       "      <td>1950.0</td>\n",
       "      <td>14.3</td>\n",
       "      <td>7863.0</td>\n",
       "      <td>69.500000</td>\n",
       "      <td>31.200001</td>\n",
       "      <td>59.799999</td>\n",
       "      <td>NaN</td>\n",
       "      <td>24.100000</td>\n",
       "      <td>2628500.0</td>\n",
       "      <td>151.684006</td>\n",
       "      <td>NaN</td>\n",
       "      <td>41.0</td>\n",
       "    </tr>\n",
       "    <tr>\n",
       "      <td>1</td>\n",
       "      <td>1951.0</td>\n",
       "      <td>15.1</td>\n",
       "      <td>7953.0</td>\n",
       "      <td>72.900002</td>\n",
       "      <td>36.500000</td>\n",
       "      <td>72.099998</td>\n",
       "      <td>NaN</td>\n",
       "      <td>26.000000</td>\n",
       "      <td>2843000.0</td>\n",
       "      <td>154.287003</td>\n",
       "      <td>NaN</td>\n",
       "      <td>42.0</td>\n",
       "    </tr>\n",
       "    <tr>\n",
       "      <td>2</td>\n",
       "      <td>1952.0</td>\n",
       "      <td>15.3</td>\n",
       "      <td>8071.0</td>\n",
       "      <td>73.099998</td>\n",
       "      <td>36.200001</td>\n",
       "      <td>71.300003</td>\n",
       "      <td>NaN</td>\n",
       "      <td>26.500000</td>\n",
       "      <td>2851200.0</td>\n",
       "      <td>156.953995</td>\n",
       "      <td>NaN</td>\n",
       "      <td>43.0</td>\n",
       "    </tr>\n",
       "    <tr>\n",
       "      <td>3</td>\n",
       "      <td>1953.0</td>\n",
       "      <td>15.2</td>\n",
       "      <td>8319.0</td>\n",
       "      <td>71.300003</td>\n",
       "      <td>28.500000</td>\n",
       "      <td>62.700001</td>\n",
       "      <td>NaN</td>\n",
       "      <td>26.700001</td>\n",
       "      <td>2953900.0</td>\n",
       "      <td>159.565002</td>\n",
       "      <td>NaN</td>\n",
       "      <td>44.0</td>\n",
       "    </tr>\n",
       "    <tr>\n",
       "      <td>4</td>\n",
       "      <td>1954.0</td>\n",
       "      <td>15.8</td>\n",
       "      <td>8276.0</td>\n",
       "      <td>64.400002</td>\n",
       "      <td>27.400000</td>\n",
       "      <td>63.400002</td>\n",
       "      <td>NaN</td>\n",
       "      <td>26.900000</td>\n",
       "      <td>3099700.0</td>\n",
       "      <td>162.391006</td>\n",
       "      <td>NaN</td>\n",
       "      <td>45.0</td>\n",
       "    </tr>\n",
       "  </tbody>\n",
       "</table>\n",
       "</div>"
      ],
      "text/plain": [
       "     year     q       y     pchick      pbeef       pcor  pf        cpi  \\\n",
       "0  1950.0  14.3  7863.0  69.500000  31.200001  59.799999 NaN  24.100000   \n",
       "1  1951.0  15.1  7953.0  72.900002  36.500000  72.099998 NaN  26.000000   \n",
       "2  1952.0  15.3  8071.0  73.099998  36.200001  71.300003 NaN  26.500000   \n",
       "3  1953.0  15.2  8319.0  71.300003  28.500000  62.700001 NaN  26.700001   \n",
       "4  1954.0  15.8  8276.0  64.400002  27.400000  63.400002 NaN  26.900000   \n",
       "\n",
       "      qproda         pop  meatex  time  \n",
       "0  2628500.0  151.684006     NaN  41.0  \n",
       "1  2843000.0  154.287003     NaN  42.0  \n",
       "2  2851200.0  156.953995     NaN  43.0  \n",
       "3  2953900.0  159.565002     NaN  44.0  \n",
       "4  3099700.0  162.391006     NaN  45.0  "
      ]
     },
     "execution_count": 5,
     "metadata": {},
     "output_type": "execute_result"
    }
   ],
   "source": [
    "url = 'http://www.principlesofeconometrics.com/stata/broiler.dta'\n",
    "\n",
    "df = pd.read_stata(url)\n",
    "df.head()"
   ]
  },
  {
   "cell_type": "markdown",
   "metadata": {},
   "source": [
    "Note, the only thing we changed was we used a URL as input (<em>url</em>) and Pandas read_stata will import the .dta file that the URL is pointing to."
   ]
  },
  {
   "cell_type": "markdown",
   "metadata": {},
   "source": [
    "### <span class=\"ez-toc-section\" id=\"Pandas_Scatter_Plot\">Pandas Scatter Plot</span>"
   ]
  },
  {
   "cell_type": "code",
   "execution_count": 6,
   "metadata": {},
   "outputs": [
    {
     "data": {
      "text/plain": [
       "<matplotlib.axes._subplots.AxesSubplot at 0x7feb83ceac88>"
      ]
     },
     "execution_count": 6,
     "metadata": {},
     "output_type": "execute_result"
    },
    {
     "data": {
      "image/png": "[encoded data removed]",
      "text/plain": [
       "<Figure size 432x288 with 1 Axes>"
      ]
     },
     "metadata": {
      "needs_background": "light"
     },
     "output_type": "display_data"
    }
   ],
   "source": [
    "%matplotlib inline\n",
    "\n",
    "df.plot.scatter(x='pchick',\n",
    "                       y='cpi')"
   ]
  },
  {
   "cell_type": "markdown",
   "metadata": {},
   "source": [
    "### <span class=\"ez-toc-section\" id=\"How_to_Read_Specific_Columns_from_a_Stata_file\">How to Read Specific Columns from a Stata file</span>"
   ]
  },
  {
   "cell_type": "markdown",
   "metadata": {},
   "source": [
    "#### Reading Specific Columns using Pyreadstat"
   ]
  },
  {
   "cell_type": "code",
   "execution_count": 7,
   "metadata": {},
   "outputs": [
    {
     "data": {
      "text/html": [
       "<div>\n",
       "<style scoped>\n",
       "    .dataframe tbody tr th:only-of-type {\n",
       "        vertical-align: middle;\n",
       "    }\n",
       "\n",
       "    .dataframe tbody tr th {\n",
       "        vertical-align: top;\n",
       "    }\n",
       "\n",
       "    .dataframe thead th {\n",
       "        text-align: right;\n",
       "    }\n",
       "</style>\n",
       "<table border=\"1\" class=\"dataframe\">\n",
       "  <thead>\n",
       "    <tr style=\"text-align: right;\">\n",
       "      <th></th>\n",
       "      <th>index</th>\n",
       "      <th>ID</th>\n",
       "      <th>Name</th>\n",
       "      <th>Gender</th>\n",
       "    </tr>\n",
       "  </thead>\n",
       "  <tbody>\n",
       "    <tr>\n",
       "      <td>0</td>\n",
       "      <td>0</td>\n",
       "      <td>1</td>\n",
       "      <td>John</td>\n",
       "      <td>0</td>\n",
       "    </tr>\n",
       "    <tr>\n",
       "      <td>1</td>\n",
       "      <td>1</td>\n",
       "      <td>2</td>\n",
       "      <td>Billie</td>\n",
       "      <td>0</td>\n",
       "    </tr>\n",
       "    <tr>\n",
       "      <td>2</td>\n",
       "      <td>2</td>\n",
       "      <td>3</td>\n",
       "      <td>Robert</td>\n",
       "      <td>0</td>\n",
       "    </tr>\n",
       "    <tr>\n",
       "      <td>3</td>\n",
       "      <td>3</td>\n",
       "      <td>4</td>\n",
       "      <td>Don</td>\n",
       "      <td>0</td>\n",
       "    </tr>\n",
       "    <tr>\n",
       "      <td>4</td>\n",
       "      <td>4</td>\n",
       "      <td>5</td>\n",
       "      <td>Joseph</td>\n",
       "      <td>0</td>\n",
       "    </tr>\n",
       "  </tbody>\n",
       "</table>\n",
       "</div>"
      ],
      "text/plain": [
       "   index  ID    Name  Gender\n",
       "0      0   1    John       0\n",
       "1      1   2  Billie       0\n",
       "2      2   3  Robert       0\n",
       "3      3   4     Don       0\n",
       "4      4   5  Joseph       0"
      ]
     },
     "execution_count": 7,
     "metadata": {},
     "output_type": "execute_result"
    }
   ],
   "source": [
    "import pyreadstat\n",
    "\n",
    "dtafile = './SimData/FifthDayData.dta'\n",
    "df, meta = pyreadstat.read_dta(dtafile,\n",
    "                              usecols=['index', 'Name', 'ID',\n",
    "                                      'Gender'])\n",
    "df.head()"
   ]
  },
  {
   "cell_type": "markdown",
   "metadata": {},
   "source": [
    "#### Reading Specific Columns using Pandas read_stata"
   ]
  },
  {
   "cell_type": "code",
   "execution_count": 8,
   "metadata": {},
   "outputs": [
    {
     "data": {
      "text/html": [
       "<div>\n",
       "<style scoped>\n",
       "    .dataframe tbody tr th:only-of-type {\n",
       "        vertical-align: middle;\n",
       "    }\n",
       "\n",
       "    .dataframe tbody tr th {\n",
       "        vertical-align: top;\n",
       "    }\n",
       "\n",
       "    .dataframe thead th {\n",
       "        text-align: right;\n",
       "    }\n",
       "</style>\n",
       "<table border=\"1\" class=\"dataframe\">\n",
       "  <thead>\n",
       "    <tr style=\"text-align: right;\">\n",
       "      <th></th>\n",
       "      <th>year</th>\n",
       "      <th>pchick</th>\n",
       "      <th>time</th>\n",
       "      <th>meatex</th>\n",
       "    </tr>\n",
       "  </thead>\n",
       "  <tbody>\n",
       "    <tr>\n",
       "      <td>0</td>\n",
       "      <td>1950.0</td>\n",
       "      <td>69.500000</td>\n",
       "      <td>41.0</td>\n",
       "      <td>NaN</td>\n",
       "    </tr>\n",
       "    <tr>\n",
       "      <td>1</td>\n",
       "      <td>1951.0</td>\n",
       "      <td>72.900002</td>\n",
       "      <td>42.0</td>\n",
       "      <td>NaN</td>\n",
       "    </tr>\n",
       "    <tr>\n",
       "      <td>2</td>\n",
       "      <td>1952.0</td>\n",
       "      <td>73.099998</td>\n",
       "      <td>43.0</td>\n",
       "      <td>NaN</td>\n",
       "    </tr>\n",
       "    <tr>\n",
       "      <td>3</td>\n",
       "      <td>1953.0</td>\n",
       "      <td>71.300003</td>\n",
       "      <td>44.0</td>\n",
       "      <td>NaN</td>\n",
       "    </tr>\n",
       "    <tr>\n",
       "      <td>4</td>\n",
       "      <td>1954.0</td>\n",
       "      <td>64.400002</td>\n",
       "      <td>45.0</td>\n",
       "      <td>NaN</td>\n",
       "    </tr>\n",
       "  </tbody>\n",
       "</table>\n",
       "</div>"
      ],
      "text/plain": [
       "     year     pchick  time  meatex\n",
       "0  1950.0  69.500000  41.0     NaN\n",
       "1  1951.0  72.900002  42.0     NaN\n",
       "2  1952.0  73.099998  43.0     NaN\n",
       "3  1953.0  71.300003  44.0     NaN\n",
       "4  1954.0  64.400002  45.0     NaN"
      ]
     },
     "execution_count": 8,
     "metadata": {},
     "output_type": "execute_result"
    }
   ],
   "source": [
    "import pandas as pd\n",
    "url = 'http://www.principlesofeconometrics.com/stata/broiler.dta'\n",
    "\n",
    "df = pd.read_stata(url,\n",
    "                  columns=['year', 'pchick', 'time',\n",
    "                                      'meatex'])\n",
    "df.head()"
   ]
  },
  {
   "cell_type": "markdown",
   "metadata": {},
   "source": [
    "## <span class=\"ez-toc-section\" id=\"How_to_Save_a_Stata_file\">How to Save a Stata file</span>"
   ]
  },
  {
   "cell_type": "markdown",
   "metadata": {},
   "source": [
    "### <span class=\"ez-toc-section\" id=\"Saving_a_dataframe_as_a_Stata_file_using_Pyreadstat\">Saving a dataframe as a Stata file using Pyreadstat</span>"
   ]
  },
  {
   "cell_type": "code",
   "execution_count": 9,
   "metadata": {},
   "outputs": [],
   "source": [
    "pyreadstat.write_dta(df, 'broilerdata_edited.dta')"
   ]
  },
  {
   "cell_type": "markdown",
   "metadata": {},
   "source": [
    "### <span class=\"ez-toc-section\" id=\"How_to_Save_a_dataframe_as_dta_with_Pandas_to_stata\">How to Save a dataframe as .dta with Pandas to_stata</span>"
   ]
  },
  {
   "cell_type": "code",
   "execution_count": 10,
   "metadata": {},
   "outputs": [],
   "source": [
    "df.to_stata('broilerdata_edited.dta')"
   ]
  },
  {
   "cell_type": "markdown",
   "metadata": {},
   "source": [
    "## <span class=\"ez-toc-section\" id=\"Save_a_CSV_file_as_a_Stata_File\">Save a CSV file as a Stata File</span>"
   ]
  },
  {
   "cell_type": "code",
   "execution_count": 11,
   "metadata": {},
   "outputs": [],
   "source": [
    "df = pd.read_csv('./SimData/FifthDayData.csv')\n",
    "df.to_stata('./SimData/FifthDayData.dta')"
   ]
  },
  {
   "cell_type": "markdown",
   "metadata": {},
   "source": [
    "## <span class=\"ez-toc-section\" id=\"Export_an_Excel_file_as_a_Stata_File\">Export an Excel file as a Stata File</span>"
   ]
  },
  {
   "cell_type": "code",
   "execution_count": 12,
   "metadata": {},
   "outputs": [],
   "source": [
    "df = pd.read_excel('./SimData/example_concat.xlsx')\n",
    "df.to_stata('./SimData/example_concat.dta')"
   ]
  }
 ],
 "metadata": {
  "kernelspec": {
   "display_name": "Python 3",
   "language": "python",
   "name": "python3"
  },
  "language_info": {
   "codemirror_mode": {
    "name": "ipython",
    "version": 3
   },
   "file_extension": ".py",
   "mimetype": "text/x-python",
   "name": "python",
   "nbconvert_exporter": "python",
   "pygments_lexer": "ipython3",
   "version": "3.7.3"
  }
 },
 "nbformat": 4,
 "nbformat_minor": 1
}
