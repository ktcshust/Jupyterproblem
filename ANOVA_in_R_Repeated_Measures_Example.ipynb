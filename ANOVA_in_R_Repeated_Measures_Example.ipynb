{
 "cells": [
  {
   "cell_type": "markdown",
   "metadata": {},
   "source": [
    "## RM ANOVA in R using afex"
   ]
  },
  {
   "cell_type": "markdown",
   "metadata": {},
   "source": [
    "### How to Install afex"
   ]
  },
  {
   "cell_type": "code",
   "execution_count": 1,
   "metadata": {},
   "outputs": [],
   "source": [
    "list.of.packages <- c(\"afex\", \"emmeans\")\n",
    "new.packages <- list.of.packages[!(list.of.packages %in% installed.packages()[,\"Package\"])]\n",
    "if(length(new.packages)) install.packages(new.packages)"
   ]
  },
  {
   "cell_type": "code",
   "execution_count": 2,
   "metadata": {},
   "outputs": [
    {
     "name": "stderr",
     "output_type": "stream",
     "text": [
      "Loading required package: afex\n",
      "Loading required package: lme4\n",
      "Loading required package: Matrix\n",
      "Registered S3 methods overwritten by 'car':\n",
      "  method                          from\n",
      "  influence.merMod                lme4\n",
      "  cooks.distance.influence.merMod lme4\n",
      "  dfbeta.influence.merMod         lme4\n",
      "  dfbetas.influence.merMod        lme4\n",
      "Registered S3 methods overwritten by 'ggplot2':\n",
      "  method         from \n",
      "  [.quosures     rlang\n",
      "  c.quosures     rlang\n",
      "  print.quosures rlang\n",
      "************\n",
      "Welcome to afex. For support visit: http://afex.singmann.science/\n",
      "- Functions for ANOVAs: aov_car(), aov_ez(), and aov_4()\n",
      "- Methods for calculating p-values with mixed(): 'KR', 'S', 'LRT', and 'PB'\n",
      "- 'afex_aov' and 'mixed' objects can be passed to emmeans() for follow-up tests\n",
      "- NEWS: library('emmeans') now needs to be called explicitly!\n",
      "- Get and set global package options with: afex_options()\n",
      "- Set orthogonal sum-to-zero contrasts globally: set_sum_contrasts()\n",
      "- For example analyses see: browseVignettes(\"afex\")\n",
      "************\n",
      "\n",
      "Attaching package: 'afex'\n",
      "\n",
      "The following object is masked from 'package:lme4':\n",
      "\n",
      "    lmer\n",
      "\n"
     ]
    },
    {
     "data": {
      "text/html": [
       "<table>\n",
       "<thead><tr><th scope=col>Sub_id</th><th scope=col>rt</th><th scope=col>iv1</th><th scope=col>iv2</th></tr></thead>\n",
       "<tbody>\n",
       "\t<tr><td>1        </td><td>1082.9866</td><td>noise    </td><td>down     </td></tr>\n",
       "\t<tr><td>2        </td><td> 938.7997</td><td>noise    </td><td>down     </td></tr>\n",
       "\t<tr><td>3        </td><td>1101.4710</td><td>noise    </td><td>down     </td></tr>\n",
       "\t<tr><td>4        </td><td>1123.0303</td><td>noise    </td><td>down     </td></tr>\n",
       "\t<tr><td>5        </td><td> 938.0516</td><td>noise    </td><td>down     </td></tr>\n",
       "\t<tr><td>6        </td><td> 864.4438</td><td>noise    </td><td>down     </td></tr>\n",
       "</tbody>\n",
       "</table>\n"
      ],
      "text/latex": [
       "\\begin{tabular}{r|llll}\n",
       " Sub\\_id & rt & iv1 & iv2\\\\\n",
       "\\hline\n",
       "\t 1         & 1082.9866 & noise     & down     \\\\\n",
       "\t 2         &  938.7997 & noise     & down     \\\\\n",
       "\t 3         & 1101.4710 & noise     & down     \\\\\n",
       "\t 4         & 1123.0303 & noise     & down     \\\\\n",
       "\t 5         &  938.0516 & noise     & down     \\\\\n",
       "\t 6         &  864.4438 & noise     & down     \\\\\n",
       "\\end{tabular}\n"
      ],
      "text/markdown": [
       "\n",
       "| Sub_id | rt | iv1 | iv2 |\n",
       "|---|---|---|---|\n",
       "| 1         | 1082.9866 | noise     | down      |\n",
       "| 2         |  938.7997 | noise     | down      |\n",
       "| 3         | 1101.4710 | noise     | down      |\n",
       "| 4         | 1123.0303 | noise     | down      |\n",
       "| 5         |  938.0516 | noise     | down      |\n",
       "| 6         |  864.4438 | noise     | down      |\n",
       "\n"
      ],
      "text/plain": [
       "  Sub_id rt        iv1   iv2 \n",
       "1 1      1082.9866 noise down\n",
       "2 2       938.7997 noise down\n",
       "3 3      1101.4710 noise down\n",
       "4 4      1123.0303 noise down\n",
       "5 5       938.0516 noise down\n",
       "6 6       864.4438 noise down"
      ]
     },
     "metadata": {},
     "output_type": "display_data"
    }
   ],
   "source": [
    "require(afex)\n",
    "\n",
    "url = 'https://raw.githubusercontent.com/marsja/jupyter/master/Python_ANOVA/rmAOV2way.csv'\n",
    "\n",
    "df <- read.csv(file=url, header=TRUE, sep=',')\n",
    "\n",
    "head(df)"
   ]
  },
  {
   "cell_type": "markdown",
   "metadata": {},
   "source": [
    "### One-Way ANOVA"
   ]
  },
  {
   "cell_type": "code",
   "execution_count": 3,
   "metadata": {},
   "outputs": [
    {
     "name": "stdout",
     "output_type": "stream",
     "text": [
      "Anova Table (Type 3 tests)\n",
      "\n",
      "Response: rt\n",
      "  Effect    df     MSE           F ges p.value\n",
      "1    iv1 1, 59 3652.85 2207.02 *** .95  <.0001\n",
      "---\n",
      "Signif. codes:  0 '***' 0.001 '**' 0.01 '*' 0.05 '+' 0.1 ' ' 1\n"
     ]
    }
   ],
   "source": [
    "aov <- aov_ez('Sub_id', 'rt', \n",
    "              fun_aggregate = mean, df, within = 'iv1')\n",
    "print(aov)"
   ]
  },
  {
   "cell_type": "markdown",
   "metadata": {},
   "source": [
    "### Two-Way ANOVA"
   ]
  },
  {
   "cell_type": "code",
   "execution_count": 4,
   "metadata": {},
   "outputs": [
    {
     "name": "stdout",
     "output_type": "stream",
     "text": [
      "Anova Table (Type 3 tests)\n",
      "\n",
      "Response: rt\n",
      "   Effect           df      MSE           F ges p.value\n",
      "1     iv1        1, 59 10958.55 2207.02 *** .87  <.0001\n",
      "2     iv2 1.98, 116.79  8871.20  275.41 *** .58  <.0001\n",
      "3 iv1:iv2 1.97, 116.37 10668.36        1.87 .01     .16\n",
      "---\n",
      "Signif. codes:  0 '***' 0.001 '**' 0.01 '*' 0.05 '+' 0.1 ' ' 1\n",
      "\n",
      "Sphericity correction method: GG \n"
     ]
    }
   ],
   "source": [
    "aov <- aov_ez('Sub_id', 'rt', fun_aggregate = mean, \n",
    "              df, within = c('iv1', 'iv2'))\n",
    "print(aov)"
   ]
  },
  {
   "cell_type": "markdown",
   "metadata": {},
   "source": [
    "### Interaction Plot"
   ]
  },
  {
   "cell_type": "code",
   "execution_count": 5,
   "metadata": {},
   "outputs": [
    {
     "data": {
      "image/png": "[encoded data removed]",
      "text/plain": [
       "plot without title"
      ]
     },
     "metadata": {},
     "output_type": "display_data"
    }
   ],
   "source": [
    "afex_plot(aov, x = \"iv1\", trace = \"iv2\",\n",
    "         error = \"within\")"
   ]
  },
  {
   "cell_type": "code",
   "execution_count": null,
   "metadata": {},
   "outputs": [],
   "source": []
  }
 ],
 "metadata": {
  "kernelspec": {
   "display_name": "R",
   "language": "R",
   "name": "ir"
  },
  "language_info": {
   "codemirror_mode": "r",
   "file_extension": ".r",
   "mimetype": "text/x-r-source",
   "name": "R",
   "pygments_lexer": "r",
   "version": "3.6.0"
  }
 },
 "nbformat": 4,
 "nbformat_minor": 2
}
