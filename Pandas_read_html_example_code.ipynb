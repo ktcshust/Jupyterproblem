{
 "cells": [
  {
   "cell_type": "code",
   "execution_count": 1,
   "metadata": {},
   "outputs": [],
   "source": [
    "import pandas as pd\n",
    "\n",
    "url = 'https://en.wikipedia.org/wiki/List_of_Capsicum_cultivars'\n",
    "data = pd.read_html(url, flavor='bs4', header=0, encoding='UTF8')"
   ]
  },
  {
   "cell_type": "code",
   "execution_count": 2,
   "metadata": {},
   "outputs": [],
   "source": [
    "# Let's remove the last table \n",
    "del data[-1]"
   ]
  },
  {
   "cell_type": "code",
   "execution_count": 3,
   "metadata": {},
   "outputs": [],
   "source": [
    "species = ['Capsicum annum', 'Capsicum baccatum', 'Capsicum chinense',\n",
    "          'Capsicum frutescens', 'Capsicum pubescens']\n",
    "\n",
    "\n",
    "for i in range(len(species)):\n",
    "    data[i]['Species'] = species[i]"
   ]
  },
  {
   "cell_type": "code",
   "execution_count": 5,
   "metadata": {},
   "outputs": [
    {
     "data": {
      "text/html": [
       "<div>\n",
       "<style scoped>\n",
       "    .dataframe tbody tr th:only-of-type {\n",
       "        vertical-align: middle;\n",
       "    }\n",
       "\n",
       "    .dataframe tbody tr th {\n",
       "        vertical-align: top;\n",
       "    }\n",
       "\n",
       "    .dataframe thead th {\n",
       "        text-align: right;\n",
       "    }\n",
       "</style>\n",
       "<table border=\"1\" class=\"dataframe\">\n",
       "  <thead>\n",
       "    <tr style=\"text-align: right;\">\n",
       "      <th></th>\n",
       "      <th>Image</th>\n",
       "      <th>Name</th>\n",
       "      <th>Type</th>\n",
       "      <th>Origin</th>\n",
       "      <th>Heat</th>\n",
       "      <th>Pod size</th>\n",
       "      <th>Description</th>\n",
       "      <th>Species</th>\n",
       "    </tr>\n",
       "  </thead>\n",
       "  <tbody>\n",
       "    <tr>\n",
       "      <th>0</th>\n",
       "      <td>NaN</td>\n",
       "      <td>Aleppo</td>\n",
       "      <td>NaN</td>\n",
       "      <td>Syria and Turkey</td>\n",
       "      <td>15,000 SR</td>\n",
       "      <td>NaN</td>\n",
       "      <td>Grown in Syria and Turkey and used, in coarsel...</td>\n",
       "      <td>Capsicum annum</td>\n",
       "    </tr>\n",
       "    <tr>\n",
       "      <th>1</th>\n",
       "      <td>NaN</td>\n",
       "      <td>Anaheim[14]</td>\n",
       "      <td>Anaheim</td>\n",
       "      <td>United States</td>\n",
       "      <td>500–2,500 SR</td>\n",
       "      <td>15 cm (5.9 in)</td>\n",
       "      <td>A mild variety of New Mexico chile. It was lat...</td>\n",
       "      <td>Capsicum annum</td>\n",
       "    </tr>\n",
       "    <tr>\n",
       "      <th>2</th>\n",
       "      <td>NaN</td>\n",
       "      <td>Banana</td>\n",
       "      <td>Waxy</td>\n",
       "      <td>NaN</td>\n",
       "      <td>0–500 SR</td>\n",
       "      <td>15 cm (5.9 in)</td>\n",
       "      <td>Often it is pickled and used as an ingredient ...</td>\n",
       "      <td>Capsicum annum</td>\n",
       "    </tr>\n",
       "    <tr>\n",
       "      <th>3</th>\n",
       "      <td>NaN</td>\n",
       "      <td>Bird's Eye</td>\n",
       "      <td>Small hot</td>\n",
       "      <td>Southeast Asia</td>\n",
       "      <td>50,000–100,000[15] SR</td>\n",
       "      <td>4 cm (1.6 in)</td>\n",
       "      <td>A Southeast Asian cultivar known by many local...</td>\n",
       "      <td>Capsicum annum</td>\n",
       "    </tr>\n",
       "    <tr>\n",
       "      <th>4</th>\n",
       "      <td>NaN</td>\n",
       "      <td>Black Hungarian[16]</td>\n",
       "      <td>Ornamental/ Culinary</td>\n",
       "      <td>Hungary</td>\n",
       "      <td>5,000–10,000 SR</td>\n",
       "      <td>5–7 cm (≈ 2–3 in)</td>\n",
       "      <td>Grows in a conical shape with a slight curve n...</td>\n",
       "      <td>Capsicum annum</td>\n",
       "    </tr>\n",
       "  </tbody>\n",
       "</table>\n",
       "</div>"
      ],
      "text/plain": [
       "   Image                 Name                  Type            Origin  \\\n",
       "0    NaN               Aleppo                   NaN  Syria and Turkey   \n",
       "1    NaN          Anaheim[14]               Anaheim     United States   \n",
       "2    NaN               Banana                  Waxy               NaN   \n",
       "3    NaN           Bird's Eye             Small hot    Southeast Asia   \n",
       "4    NaN  Black Hungarian[16]  Ornamental/ Culinary           Hungary   \n",
       "\n",
       "                    Heat           Pod size  \\\n",
       "0              15,000 SR                NaN   \n",
       "1           500–2,500 SR     15 cm (5.9 in)   \n",
       "2               0–500 SR     15 cm (5.9 in)   \n",
       "3  50,000–100,000[15] SR      4 cm (1.6 in)   \n",
       "4        5,000–10,000 SR  5–7 cm (≈ 2–3 in)   \n",
       "\n",
       "                                         Description         Species  \n",
       "0  Grown in Syria and Turkey and used, in coarsel...  Capsicum annum  \n",
       "1  A mild variety of New Mexico chile. It was lat...  Capsicum annum  \n",
       "2  Often it is pickled and used as an ingredient ...  Capsicum annum  \n",
       "3  A Southeast Asian cultivar known by many local...  Capsicum annum  \n",
       "4  Grows in a conical shape with a slight curve n...  Capsicum annum  "
      ]
     },
     "execution_count": 5,
     "metadata": {},
     "output_type": "execute_result"
    }
   ],
   "source": [
    "df = pd.concat(data, sort=False) \n",
    "df.head()"
   ]
  },
  {
   "cell_type": "code",
   "execution_count": 8,
   "metadata": {},
   "outputs": [],
   "source": [
    "import re\n",
    "import numpy as np\n",
    "\n",
    "# Remove brackets and whats between them (e.g. [14])\n",
    "df['Name'] = df['Name'].map(lambda x: re.sub(\"[\\(\\[].*?[\\)\\]]\", \"\", x)\n",
    "                                         if isinstance(x, str) else np.NaN)\n",
    "\n",
    "# Pod Size get cm\n",
    "df['Pod size'] = df['Pod size'].map(lambda x: x.split(' ', 1)[0].rstrip('cm') \n",
    "                                              if isinstance(x, str) else np.NaN)\n",
    "\n",
    "# Taking the largest number in a range and convert all values to float\n",
    "df['Pod size']  = df['Pod size'].map(lambda x: x.split('–', 1)[-1]\n",
    "                                              if isinstance(x, str) else np.NaN)\n",
    "# Convert to float\n",
    "df['Pod size'] = df['Pod size'].map(lambda x: float(x))\n",
    "\n",
    "# Taking the largest SHU\n",
    "df['Heat'] = df['Heat'].map(lambda x: re.sub(\"[\\(\\[].*?[\\)\\]]\", \"\", x) \n",
    "                            if isinstance(x, str) else np.NaN)\n",
    "df['Heat'] = df['Heat'].str.replace(',', '')\n",
    "df['Heat'] = df['Heat'].map(lambda x: float(re.findall(r'\\d+(?:,\\d+)?', x)[-1])\n",
    "                            if isinstance(x, str) else np.NaN)"
   ]
  },
  {
   "cell_type": "code",
   "execution_count": 9,
   "metadata": {},
   "outputs": [
    {
     "data": {
      "text/plain": [
       "Image          65\n",
       "Name            0\n",
       "Type           39\n",
       "Origin         28\n",
       "Heat            9\n",
       "Pod size       33\n",
       "Description     8\n",
       "Species         0\n",
       "dtype: int64"
      ]
     },
     "execution_count": 9,
     "metadata": {},
     "output_type": "execute_result"
    }
   ],
   "source": [
    "df.isna().sum()"
   ]
  },
  {
   "cell_type": "code",
   "execution_count": 10,
   "metadata": {},
   "outputs": [
    {
     "data": {
      "text/plain": [
       "Capsicum annum         39\n",
       "Capsicum chinense      17\n",
       "Capsicum frutescens     4\n",
       "Capsicum baccatum       3\n",
       "Capsicum pubescens      2\n",
       "Name: Species, dtype: int64"
      ]
     },
     "execution_count": 10,
     "metadata": {},
     "output_type": "execute_result"
    }
   ],
   "source": [
    "df['Species'].value_counts()"
   ]
  },
  {
   "cell_type": "code",
   "execution_count": null,
   "metadata": {},
   "outputs": [],
   "source": []
  }
 ],
 "metadata": {
  "kernelspec": {
   "display_name": "Python 3",
   "language": "python",
   "name": "python3"
  },
  "language_info": {
   "codemirror_mode": {
    "name": "ipython",
    "version": 3
   },
   "file_extension": ".py",
   "mimetype": "text/x-python",
   "name": "python",
   "nbconvert_exporter": "python",
   "pygments_lexer": "ipython3",
   "version": "3.7.1"
  }
 },
 "nbformat": 4,
 "nbformat_minor": 2
}
