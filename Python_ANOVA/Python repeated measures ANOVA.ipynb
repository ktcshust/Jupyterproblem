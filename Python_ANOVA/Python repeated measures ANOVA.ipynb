{
 "cells": [
  {
   "cell_type": "markdown",
   "metadata": {},
   "source": [
    "## Python Repeated Measures ANOVA using Statsmodels AnovaRM\n",
    "This code examples show you how to carry out a repeated measures ANOVA using Statsmodels AnovaRM. This notbooke contains the code for the YouTube [Tutorial on how to carry out repeated measures anova](https://youtu.be/_X3g-dvlMF0) in Python. You will learn both one-way and two-way anova for repeated measures by watching the mentioned video.",
   "\n\n There are also more Python ANOVA guides found on [https://www.marsja.se](https://www.marsja.se])"]
  },
  {
   "cell_type": "code",
   "execution_count": 6,
   "metadata": {},
   "outputs": [
    {
     "name": "stdout",
     "output_type": "stream",
     "text": [
      "Help on class AnovaRM in module statsmodels.stats.anova:\n",
      "\n",
      "class AnovaRM(builtins.object)\n",
      " |  Repeated measures Anova using least squares regression\n",
      " |  \n",
      " |  The full model regression residual sum of squares is\n",
      " |  used to compare with the reduced model for calculating the\n",
      " |  within-subject effect sum of squares [1].\n",
      " |  \n",
      " |  Currently, only fully balanced within-subject designs are supported.\n",
      " |  Calculation of between-subject effects and corrections for violation of\n",
      " |  sphericity are not yet implemented.\n",
      " |  \n",
      " |  Parameters\n",
      " |  ----------\n",
      " |  data : DataFrame\n",
      " |  depvar : string\n",
      " |      The dependent variable in `data`\n",
      " |  subject : string\n",
      " |      Specify the subject id\n",
      " |  within : a list of string(s)\n",
      " |      The within-subject factors\n",
      " |  between : a list of string(s)\n",
      " |      The between-subject factors, this is not yet implemented\n",
      " |  aggregate_func : None, 'mean', or function\n",
      " |      If the data set contains more than a single observation per subject\n",
      " |      and cell of the specified model, this function will be used to\n",
      " |      aggregate the data before running the Anova. `None` (the default) will\n",
      " |      not perform any aggregation; 'mean' is s shortcut to `numpy.mean`.\n",
      " |      An exception will be raised if aggregation is required, but no\n",
      " |      aggregation function was specified.\n",
      " |  \n",
      " |  Returns\n",
      " |  -------\n",
      " |  results: AnovaResults instance\n",
      " |  \n",
      " |  Raises\n",
      " |  ------\n",
      " |  ValueError\n",
      " |      If the data need to be aggregated, but `aggregate_func` was not\n",
      " |      specified.\n",
      " |  \n",
      " |  Notes\n",
      " |  -----\n",
      " |  This implementation currently only supports fully balanced designs. If the\n",
      " |  data contain more than one observation per subject and cell of the design,\n",
      " |  these observations need to be aggregated into a single observation\n",
      " |  before the Anova is calculated, either manually or by passing an aggregation\n",
      " |  function via the `aggregate_func` keyword argument.\n",
      " |  Note that if the input data set was not balanced before performing the\n",
      " |  aggregation, the implied heteroscedasticity of the data is ignored.\n",
      " |  \n",
      " |  References\n",
      " |  ----------\n",
      " |  .. [*] Rutherford, Andrew. Anova and ANCOVA: a GLM approach. John Wiley & Sons, 2011.\n",
      " |  \n",
      " |  Methods defined here:\n",
      " |  \n",
      " |  __init__(self, data, depvar, subject, within=None, between=None, aggregate_func=None)\n",
      " |      Initialize self.  See help(type(self)) for accurate signature.\n",
      " |  \n",
      " |  fit(self)\n",
      " |      estimate the model and compute the Anova table\n",
      " |      \n",
      " |      Returns\n",
      " |      -------\n",
      " |      AnovaResults instance\n",
      " |  \n",
      " |  ----------------------------------------------------------------------\n",
      " |  Data descriptors defined here:\n",
      " |  \n",
      " |  __dict__\n",
      " |      dictionary for instance variables (if defined)\n",
      " |  \n",
      " |  __weakref__\n",
      " |      list of weak references to the object (if defined)\n",
      "\n"
     ]
    }
   ],
   "source": [
    "import pandas as pd\n",
    "from statsmodels.stats.anova import AnovaRM\n",
    "\n",
    "help(AnovaRM)"
   ]
  },
  {
   "cell_type": "code",
   "execution_count": 7,
   "metadata": {},
   "outputs": [
    {
     "name": "stdout",
     "output_type": "stream",
     "text": [
      "               Anova\n",
      "===================================\n",
      "     Num DF  Den DF F Value  Pr > F\n",
      "-----------------------------------\n",
      "cond 1.0000 59.0000 499.1549 0.0000\n",
      "===================================\n",
      "\n"
     ]
    }
   ],
   "source": [
    "df = pd.read_csv('rmAOV1way.csv')\n",
    "\n",
    "aovrm = AnovaRM(df, 'rt', 'Sub_id', within=['cond'])\n",
    "res = aovrm.fit()\n",
    "\n",
    "print(res)"
   ]
  },
  {
   "cell_type": "code",
   "execution_count": 9,
   "metadata": {},
   "outputs": [
    {
     "name": "stdout",
     "output_type": "stream",
     "text": [
      "                 Anova\n",
      "========================================\n",
      "        Num DF  Den DF   F Value  Pr > F\n",
      "----------------------------------------\n",
      "iv1     1.0000  59.0000 2207.0162 0.0000\n",
      "iv2     2.0000 118.0000  275.4144 0.0000\n",
      "iv1:iv2 2.0000 118.0000    1.8651 0.1594\n",
      "========================================\n",
      "\n"
     ]
    }
   ],
   "source": [
    "df2way = pd.read_csv('rmAOV2way.csv')\n",
    "aovrm2way = AnovaRM(df2way, 'rt', 'Sub_id', within=['iv1', 'iv2'])\n",
    "res2way = aovrm2way.fit()\n",
    "\n",
    "print(res2way)"
   ]
  },
  {
   "cell_type": "code",
   "execution_count": null,
   "metadata": {},
   "outputs": [],
   "source": []
  }
 ],
 "metadata": {
  "kernelspec": {
   "display_name": "Python 3",
   "language": "python",
   "name": "python3"
  },
  "language_info": {
   "codemirror_mode": {
    "name": "ipython",
    "version": 3
   },
   "file_extension": ".py",
   "mimetype": "text/x-python",
   "name": "python",
   "nbconvert_exporter": "python",
   "pygments_lexer": "ipython3",
   "version": "3.6.6"
  }
 },
 "nbformat": 4,
 "nbformat_minor": 2
}
