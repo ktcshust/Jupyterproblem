{
 "cells": [
  {
   "cell_type": "code",
   "execution_count": 4,
   "metadata": {},
   "outputs": [
    {
     "data": {
      "text/html": [
       "<div>\n",
       "<style scoped>\n",
       "    .dataframe tbody tr th:only-of-type {\n",
       "        vertical-align: middle;\n",
       "    }\n",
       "\n",
       "    .dataframe tbody tr th {\n",
       "        vertical-align: top;\n",
       "    }\n",
       "\n",
       "    .dataframe thead th {\n",
       "        text-align: right;\n",
       "    }\n",
       "</style>\n",
       "<table border=\"1\" class=\"dataframe\">\n",
       "  <thead>\n",
       "    <tr style=\"text-align: right;\">\n",
       "      <th></th>\n",
       "      <th>weight</th>\n",
       "      <th>group</th>\n",
       "    </tr>\n",
       "  </thead>\n",
       "  <tbody>\n",
       "    <tr>\n",
       "      <th>1</th>\n",
       "      <td>4.17</td>\n",
       "      <td>ctrl</td>\n",
       "    </tr>\n",
       "    <tr>\n",
       "      <th>2</th>\n",
       "      <td>5.58</td>\n",
       "      <td>ctrl</td>\n",
       "    </tr>\n",
       "    <tr>\n",
       "      <th>3</th>\n",
       "      <td>5.18</td>\n",
       "      <td>ctrl</td>\n",
       "    </tr>\n",
       "    <tr>\n",
       "      <th>4</th>\n",
       "      <td>6.11</td>\n",
       "      <td>ctrl</td>\n",
       "    </tr>\n",
       "    <tr>\n",
       "      <th>5</th>\n",
       "      <td>4.50</td>\n",
       "      <td>ctrl</td>\n",
       "    </tr>\n",
       "  </tbody>\n",
       "</table>\n",
       "</div>"
      ],
      "text/plain": [
       "   weight group\n",
       "1    4.17  ctrl\n",
       "2    5.58  ctrl\n",
       "3    5.18  ctrl\n",
       "4    6.11  ctrl\n",
       "5    4.50  ctrl"
      ]
     },
     "execution_count": 4,
     "metadata": {},
     "output_type": "execute_result"
    }
   ],
   "source": [
    "import pandas as pd\n",
    "import pingouin as pg\n",
    "\n",
    "data = \"https://vincentarelbundock.github.io/Rdatasets/csv/datasets/PlantGrowth.csv\"\n",
    "\n",
    "df = pd.read_csv(data, index_col=0)\n",
    "df.head()"
   ]
  },
  {
   "cell_type": "code",
   "execution_count": 5,
   "metadata": {},
   "outputs": [
    {
     "name": "stdout",
     "output_type": "stream",
     "text": [
      "   Source      SS  DF     MS      F    p-unc    np2\n",
      "0   group   3.766   2  1.883  4.846  0.01591  0.264\n",
      "1  Within  10.492  27  0.389      -        -      -\n"
     ]
    }
   ],
   "source": [
    "aov = pg.anova(data=df, dv='weight', between='group', detailed=True)\n",
    "print(aov)"
   ]
  },
  {
   "cell_type": "code",
   "execution_count": 7,
   "metadata": {},
   "outputs": [
    {
     "name": "stdout",
     "output_type": "stream",
     "text": [
      "      A     B  mean(A)  mean(B)   diff     SE       tail      T   p-tukey  \\\n",
      "0  ctrl  trt1    5.032    4.661  0.371  0.279  two-sided  1.330  0.380686   \n",
      "1  ctrl  trt2    5.032    5.526 -0.494  0.279  two-sided -1.771  0.182907   \n",
      "2  trt1  trt2    4.661    5.526 -0.865  0.279  two-sided -3.101  0.006347   \n",
      "\n",
      "   efsize  eftype  \n",
      "0   0.570  hedges  \n",
      "1  -0.759  hedges  \n",
      "2  -1.328  hedges  \n"
     ]
    }
   ],
   "source": [
    "pt = pg.pairwise_tukey(dv='weight', between='group', data=df)\n",
    "print(pt)"
   ]
  },
  {
   "cell_type": "code",
   "execution_count": 9,
   "metadata": {},
   "outputs": [
    {
     "name": "stdout",
     "output_type": "stream",
     "text": [
      "      A     B  mean(A)  mean(B)   diff     SE       tail      T   p-tukey  \\\n",
      "0  ctrl  trt1    5.032    4.661  0.371  0.279  two-sided  1.330  0.380686   \n",
      "1  ctrl  trt2    5.032    5.526 -0.494  0.279  two-sided -1.771  0.182907   \n",
      "2  trt1  trt2    4.661    5.526 -0.865  0.279  two-sided -3.101  0.006347   \n",
      "\n",
      "   efsize eftype  \n",
      "0   0.595  cohen  \n",
      "1  -0.792  cohen  \n",
      "2  -1.387  cohen  \n"
     ]
    }
   ],
   "source": [
    "pt = pg.pairwise_tukey(dv='weight', between='group', effsize='cohen', data=df)\n",
    "print(pt)"
   ]
  }
 ],
 "metadata": {
  "kernelspec": {
   "display_name": "Python 3",
   "language": "python",
   "name": "python3"
  },
  "language_info": {
   "codemirror_mode": {
    "name": "ipython",
    "version": 3
   },
   "file_extension": ".py",
   "mimetype": "text/x-python",
   "name": "python",
   "nbconvert_exporter": "python",
   "pygments_lexer": "ipython3",
   "version": "3.7.1"
  }
 },
 "nbformat": 4,
 "nbformat_minor": 2
}
