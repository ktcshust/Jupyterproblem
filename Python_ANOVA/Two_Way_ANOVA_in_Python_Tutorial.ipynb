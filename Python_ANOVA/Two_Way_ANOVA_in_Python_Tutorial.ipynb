{
 "cells": [
  {
   "cell_type": "markdown",
   "metadata": {},
   "source": [
    "## Python ANOVA: 3 Ways to Carry out Two-Way ANOVA \n",
    "This is the Jupyter Notebook for Two-Way ANOVA using Python. This Notebook contains the code for calculating the ANOVA table \"by hand\".\n",
    "\n",
    "Note, it has been updated to use seaborn to create an interaction plot instead of Statsmodels:"
   ]
  },
  {
   "cell_type": "code",
   "execution_count": 1,
   "metadata": {},
   "outputs": [],
   "source": [
    "import pandas as pd\n",
    "import seaborn as sns\n",
    "import matplotlib.pyplot as plt\n",
    "\n",
    "# Suppress Warnings (not in the blog post)\n",
    "import warnings\n",
    "warnings.filterwarnings(\"ignore\")\n",
    "\n",
    "from scipy import stats"
   ]
  },
  {
   "cell_type": "markdown",
   "metadata": {},
   "source": [
    "### Load the data set from URL\n",
    "Here we load the dataset from an URL, instead of from the harddrive:"
   ]
  },
  {
   "cell_type": "code",
   "execution_count": 2,
   "metadata": {},
   "outputs": [
    {
     "data": {
      "text/html": [
       "<div>\n",
       "<style scoped>\n",
       "    .dataframe tbody tr th:only-of-type {\n",
       "        vertical-align: middle;\n",
       "    }\n",
       "\n",
       "    .dataframe tbody tr th {\n",
       "        vertical-align: top;\n",
       "    }\n",
       "\n",
       "    .dataframe thead th {\n",
       "        text-align: right;\n",
       "    }\n",
       "</style>\n",
       "<table border=\"1\" class=\"dataframe\">\n",
       "  <thead>\n",
       "    <tr style=\"text-align: right;\">\n",
       "      <th></th>\n",
       "      <th>len</th>\n",
       "      <th>supp</th>\n",
       "      <th>dose</th>\n",
       "    </tr>\n",
       "  </thead>\n",
       "  <tbody>\n",
       "    <tr>\n",
       "      <th>1</th>\n",
       "      <td>4.2</td>\n",
       "      <td>VC</td>\n",
       "      <td>0.5</td>\n",
       "    </tr>\n",
       "    <tr>\n",
       "      <th>2</th>\n",
       "      <td>11.5</td>\n",
       "      <td>VC</td>\n",
       "      <td>0.5</td>\n",
       "    </tr>\n",
       "    <tr>\n",
       "      <th>3</th>\n",
       "      <td>7.3</td>\n",
       "      <td>VC</td>\n",
       "      <td>0.5</td>\n",
       "    </tr>\n",
       "    <tr>\n",
       "      <th>4</th>\n",
       "      <td>5.8</td>\n",
       "      <td>VC</td>\n",
       "      <td>0.5</td>\n",
       "    </tr>\n",
       "    <tr>\n",
       "      <th>5</th>\n",
       "      <td>6.4</td>\n",
       "      <td>VC</td>\n",
       "      <td>0.5</td>\n",
       "    </tr>\n",
       "  </tbody>\n",
       "</table>\n",
       "</div>"
      ],
      "text/plain": [
       "    len supp  dose\n",
       "1   4.2   VC   0.5\n",
       "2  11.5   VC   0.5\n",
       "3   7.3   VC   0.5\n",
       "4   5.8   VC   0.5\n",
       "5   6.4   VC   0.5"
      ]
     },
     "execution_count": 2,
     "metadata": {},
     "output_type": "execute_result"
    }
   ],
   "source": [
    "data = 'https://vincentarelbundock.github.io/Rdatasets/csv/datasets/ToothGrowth.csv'\n",
    "\n",
    "df = pd.read_csv(data, index_col=0)\n",
    "df.head()"
   ]
  },
  {
   "cell_type": "markdown",
   "metadata": {},
   "source": [
    "### Interaction plot using Seaborn"
   ]
  },
  {
   "cell_type": "code",
   "execution_count": 3,
   "metadata": {},
   "outputs": [
    {
     "data": {
      "image/png": "[encoded data removed]",
      "text/plain": [
       "<Figure size 432x288 with 1 Axes>"
      ]
     },
     "metadata": {
      "needs_background": "light"
     },
     "output_type": "display_data"
    }
   ],
   "source": [
    "ax = sns.pointplot(x='dose', y='len', hue='supp', data=df)"
   ]
  },
  {
   "cell_type": "markdown",
   "metadata": {},
   "source": [
    "### Calculating the Degrees of Freedom"
   ]
  },
  {
   "cell_type": "code",
   "execution_count": 4,
   "metadata": {},
   "outputs": [],
   "source": [
    "N = len(df.len)\n",
    "df_a = len(df.supp.unique()) - 1\n",
    "df_b = len(df.dose.unique()) - 1\n",
    "df_axb = df_a*df_b \n",
    "df_w = N - (len(df.supp.unique())*len(df.dose.unique()))"
   ]
  },
  {
   "cell_type": "markdown",
   "metadata": {},
   "source": [
    "### Calculating the Grand Mean"
   ]
  },
  {
   "cell_type": "code",
   "execution_count": 5,
   "metadata": {},
   "outputs": [],
   "source": [
    "grand_mean = df['len'].mean()"
   ]
  },
  {
   "cell_type": "markdown",
   "metadata": {},
   "source": [
    "### Sum of Squares"
   ]
  },
  {
   "cell_type": "code",
   "execution_count": 6,
   "metadata": {},
   "outputs": [],
   "source": [
    "# Sum of Squares A\n",
    "ssq_a = sum([(df[df.supp == l].len.mean() - grand_mean)**2 for l in df.supp])\n",
    "# Sum of Squares B\n",
    "ssq_b = sum([(df[df.dose ==l].len.mean() - grand_mean)**2 for l in df.dose])\n",
    "# Sum of Squares T\n",
    "ssq_t = sum((df.len - grand_mean)**2)"
   ]
  },
  {
   "cell_type": "markdown",
   "metadata": {},
   "source": [
    "### Sum of Squares Within and Interaction"
   ]
  },
  {
   "cell_type": "code",
   "execution_count": 7,
   "metadata": {},
   "outputs": [],
   "source": [
    "vc = df[df.supp == 'VC']\n",
    "oj = df[df.supp == 'OJ']\n",
    "vc_dose_means = [vc[vc.dose == d].len.mean() for d in vc.dose]\n",
    "oj_dose_means = [oj[oj.dose == d].len.mean() for d in oj.dose]\n",
    "ssq_w = sum((oj.len - oj_dose_means)**2) +sum((vc.len - vc_dose_means)**2)\n",
    "# Interaction\n",
    "ssq_axb = ssq_t - ssq_a - ssq_b - ssq_w"
   ]
  },
  {
   "cell_type": "markdown",
   "metadata": {},
   "source": [
    "### Mean Square Errors"
   ]
  },
  {
   "cell_type": "code",
   "execution_count": 8,
   "metadata": {},
   "outputs": [],
   "source": [
    "ms_a = ssq_a/df_a\n",
    "ms_b = ssq_b/df_b\n",
    "ms_axb = ssq_axb/df_axb\n",
    "ms_w = ssq_w/df_w"
   ]
  },
  {
   "cell_type": "markdown",
   "metadata": {},
   "source": [
    "### Calculating F"
   ]
  },
  {
   "cell_type": "code",
   "execution_count": 9,
   "metadata": {},
   "outputs": [],
   "source": [
    "f_a = ms_a/ms_w\n",
    "f_b = ms_b/ms_w\n",
    "f_axb = ms_axb/ms_w"
   ]
  },
  {
   "cell_type": "markdown",
   "metadata": {},
   "source": [
    "### Obtaining the P-values\n",
    "Here we get the P-values using SciPy:"
   ]
  },
  {
   "cell_type": "code",
   "execution_count": 10,
   "metadata": {},
   "outputs": [],
   "source": [
    "p_a = stats.f.sf(f_a, df_a, df_w)\n",
    "p_b = stats.f.sf(f_b, df_b, df_w)\n",
    "p_axb = stats.f.sf(f_axb, df_axb, df_w)"
   ]
  },
  {
   "cell_type": "markdown",
   "metadata": {},
   "source": [
    "### Creating the ANOVA Table"
   ]
  },
  {
   "cell_type": "code",
   "execution_count": 11,
   "metadata": {},
   "outputs": [],
   "source": [
    "results = {'sum_sq':[ssq_a, ssq_b, ssq_axb, ssq_w],\n",
    "           'df':[df_a, df_b, df_axb, df_w],\n",
    "           'F':[f_a, f_b, f_axb, 'NaN'],\n",
    "            'PR(>F)':[p_a, p_b, p_axb, 'NaN']}\n",
    "\n",
    "columns=['sum_sq', 'df', 'F', 'PR(>F)']\n",
    "\n",
    "aov_table1 = pd.DataFrame(results, columns=columns,\n",
    "                          index=['supp', 'dose', \n",
    "                          'supp:dose', 'Residual'])"
   ]
  },
  {
   "cell_type": "markdown",
   "metadata": {},
   "source": [
    "### Effect Sizes\n",
    "Here we get the eta squared and omega squared effect sizes and add it to the anova table and print the results:"
   ]
  },
  {
   "cell_type": "code",
   "execution_count": 12,
   "metadata": {},
   "outputs": [
    {
     "name": "stdout",
     "output_type": "stream",
     "text": [
      "                sum_sq  df        F       PR(>F)    eta_sq  omega_sq\n",
      "supp        205.350000   1   15.572  0.000231183  0.059484  0.055452\n",
      "dose       2426.434333   2       92  4.04629e-18  0.702864  0.692579\n",
      "supp:dose   108.319000   2  4.10699    0.0218603  0.031377  0.023647\n",
      "Residual    712.106000  54      NaN          NaN       NaN       NaN\n"
     ]
    }
   ],
   "source": [
    "def eta_squared(aov):\n",
    "    aov['eta_sq'] = 'NaN'\n",
    "    aov['eta_sq'] = aov[:-1]['sum_sq']/sum(aov['sum_sq'])\n",
    "    return aov\n",
    "\n",
    "def omega_squared(aov):\n",
    "    mse = aov['sum_sq'][-1]/aov['df'][-1]\n",
    "    aov['omega_sq'] = 'NaN'\n",
    "    aov['omega_sq'] = (aov[:-1]['sum_sq']-(aov[:-1]['df']*mse))/(sum(aov['sum_sq'])+mse)\n",
    "    return aov\n",
    "\n",
    "\n",
    "eta_squared(aov_table1)\n",
    "omega_squared(aov_table1)\n",
    "print(aov_table1)"
   ]
  }
 ],
 "metadata": {
  "kernelspec": {
   "display_name": "Python 3",
   "language": "python",
   "name": "python3"
  },
  "language_info": {
   "codemirror_mode": {
    "name": "ipython",
    "version": 3
   },
   "file_extension": ".py",
   "mimetype": "text/x-python",
   "name": "python",
   "nbconvert_exporter": "python",
   "pygments_lexer": "ipython3",
   "version": "3.7.1"
  }
 },
 "nbformat": 4,
 "nbformat_minor": 2
}
