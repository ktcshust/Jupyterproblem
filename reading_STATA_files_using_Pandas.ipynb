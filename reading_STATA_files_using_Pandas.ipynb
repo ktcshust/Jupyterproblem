{
 "cells": [
  {
   "cell_type": "markdown",
   "metadata": {},
   "source": [
    "## How to Import Stata Files in Python using Pandas"
   ]
  },
  {
   "cell_type": "code",
   "execution_count": 23,
   "metadata": {},
   "outputs": [],
   "source": [
    "import pyreadstat\n",
    "\n",
    "dtafile = './SimData/FifthDayData.dta'\n",
    "df, meta = pyreadstat.read_dta(dtafile,\n",
    "                              usecols=['index', 'Gender', 'Name', 'ID',\n",
    "                                      'Response'])"
   ]
  },
  {
   "cell_type": "code",
   "execution_count": 24,
   "metadata": {},
   "outputs": [
    {
     "data": {
      "text/html": [
       "<div>\n",
       "<style scoped>\n",
       "    .dataframe tbody tr th:only-of-type {\n",
       "        vertical-align: middle;\n",
       "    }\n",
       "\n",
       "    .dataframe tbody tr th {\n",
       "        vertical-align: top;\n",
       "    }\n",
       "\n",
       "    .dataframe thead th {\n",
       "        text-align: right;\n",
       "    }\n",
       "</style>\n",
       "<table border=\"1\" class=\"dataframe\">\n",
       "  <thead>\n",
       "    <tr style=\"text-align: right;\">\n",
       "      <th></th>\n",
       "      <th>index</th>\n",
       "      <th>ID</th>\n",
       "      <th>Name</th>\n",
       "      <th>Response</th>\n",
       "      <th>Gender</th>\n",
       "    </tr>\n",
       "  </thead>\n",
       "  <tbody>\n",
       "    <tr>\n",
       "      <th>0</th>\n",
       "      <td>0</td>\n",
       "      <td>1</td>\n",
       "      <td>John</td>\n",
       "      <td>0.453733</td>\n",
       "      <td>0</td>\n",
       "    </tr>\n",
       "    <tr>\n",
       "      <th>1</th>\n",
       "      <td>1</td>\n",
       "      <td>2</td>\n",
       "      <td>Billie</td>\n",
       "      <td>0.257360</td>\n",
       "      <td>0</td>\n",
       "    </tr>\n",
       "    <tr>\n",
       "      <th>2</th>\n",
       "      <td>2</td>\n",
       "      <td>3</td>\n",
       "      <td>Robert</td>\n",
       "      <td>0.443393</td>\n",
       "      <td>0</td>\n",
       "    </tr>\n",
       "    <tr>\n",
       "      <th>3</th>\n",
       "      <td>3</td>\n",
       "      <td>4</td>\n",
       "      <td>Don</td>\n",
       "      <td>0.423592</td>\n",
       "      <td>0</td>\n",
       "    </tr>\n",
       "    <tr>\n",
       "      <th>4</th>\n",
       "      <td>4</td>\n",
       "      <td>5</td>\n",
       "      <td>Joseph</td>\n",
       "      <td>0.571355</td>\n",
       "      <td>0</td>\n",
       "    </tr>\n",
       "  </tbody>\n",
       "</table>\n",
       "</div>"
      ],
      "text/plain": [
       "   index  ID    Name  Response  Gender\n",
       "0      0   1    John  0.453733       0\n",
       "1      1   2  Billie  0.257360       0\n",
       "2      2   3  Robert  0.443393       0\n",
       "3      3   4     Don  0.423592       0\n",
       "4      4   5  Joseph  0.571355       0"
      ]
     },
     "execution_count": 24,
     "metadata": {},
     "output_type": "execute_result"
    }
   ],
   "source": [
    "df.head()"
   ]
  },
  {
   "cell_type": "code",
   "execution_count": 6,
   "metadata": {},
   "outputs": [
    {
     "data": {
      "text/plain": [
       "'\\n    This class holds metadata we want to give back to python\\n    '"
      ]
     },
     "execution_count": 6,
     "metadata": {},
     "output_type": "execute_result"
    }
   ],
   "source": [
    "meta.__doc__"
   ]
  },
  {
   "cell_type": "code",
   "execution_count": 8,
   "metadata": {},
   "outputs": [],
   "source": [
    "import pandas as pd"
   ]
  },
  {
   "cell_type": "markdown",
   "metadata": {},
   "source": [
    "### Import .dta file\n",
    "Here we use pandas read_stata to read a .dta file to a Pandas datframe. Note, you need to download the FifthDayData.dta from here and put it in a subfolder, to this notebook, called \"SimData\". Another option is to change the dtafile to wherever your .dta file is."
   ]
  },
  {
   "cell_type": "code",
   "execution_count": 9,
   "metadata": {},
   "outputs": [
    {
     "data": {
      "text/html": [
       "<div>\n",
       "<style scoped>\n",
       "    .dataframe tbody tr th:only-of-type {\n",
       "        vertical-align: middle;\n",
       "    }\n",
       "\n",
       "    .dataframe tbody tr th {\n",
       "        vertical-align: top;\n",
       "    }\n",
       "\n",
       "    .dataframe thead th {\n",
       "        text-align: right;\n",
       "    }\n",
       "</style>\n",
       "<table border=\"1\" class=\"dataframe\">\n",
       "  <thead>\n",
       "    <tr style=\"text-align: right;\">\n",
       "      <th></th>\n",
       "      <th>index</th>\n",
       "      <th>ID</th>\n",
       "      <th>Name</th>\n",
       "      <th>Day</th>\n",
       "      <th>Age</th>\n",
       "      <th>Response</th>\n",
       "      <th>Gender</th>\n",
       "    </tr>\n",
       "  </thead>\n",
       "  <tbody>\n",
       "    <tr>\n",
       "      <th>195</th>\n",
       "      <td>195</td>\n",
       "      <td>196</td>\n",
       "      <td>Francisca</td>\n",
       "      <td>Fifth</td>\n",
       "      <td>27</td>\n",
       "      <td>0.260849</td>\n",
       "      <td>1</td>\n",
       "    </tr>\n",
       "    <tr>\n",
       "      <th>196</th>\n",
       "      <td>196</td>\n",
       "      <td>197</td>\n",
       "      <td>Nia</td>\n",
       "      <td>Fifth</td>\n",
       "      <td>20</td>\n",
       "      <td>0.431105</td>\n",
       "      <td>1</td>\n",
       "    </tr>\n",
       "    <tr>\n",
       "      <th>197</th>\n",
       "      <td>197</td>\n",
       "      <td>198</td>\n",
       "      <td>Christina</td>\n",
       "      <td>Fifth</td>\n",
       "      <td>29</td>\n",
       "      <td>0.231316</td>\n",
       "      <td>1</td>\n",
       "    </tr>\n",
       "    <tr>\n",
       "      <th>198</th>\n",
       "      <td>198</td>\n",
       "      <td>199</td>\n",
       "      <td>Marta</td>\n",
       "      <td>Fifth</td>\n",
       "      <td>26</td>\n",
       "      <td>0.424948</td>\n",
       "      <td>1</td>\n",
       "    </tr>\n",
       "    <tr>\n",
       "      <th>199</th>\n",
       "      <td>199</td>\n",
       "      <td>200</td>\n",
       "      <td>Julia</td>\n",
       "      <td>Fifth</td>\n",
       "      <td>25</td>\n",
       "      <td>0.280474</td>\n",
       "      <td>1</td>\n",
       "    </tr>\n",
       "  </tbody>\n",
       "</table>\n",
       "</div>"
      ],
      "text/plain": [
       "     index   ID       Name    Day  Age  Response  Gender\n",
       "195    195  196  Francisca  Fifth   27  0.260849       1\n",
       "196    196  197        Nia  Fifth   20  0.431105       1\n",
       "197    197  198  Christina  Fifth   29  0.231316       1\n",
       "198    198  199      Marta  Fifth   26  0.424948       1\n",
       "199    199  200      Julia  Fifth   25  0.280474       1"
      ]
     },
     "execution_count": 9,
     "metadata": {},
     "output_type": "execute_result"
    }
   ],
   "source": [
    "dtafile = './SimData/FifthDayData.dta'\n",
    "\n",
    "df = pd.read_stata(dtafile)\n",
    "df.head()\n",
    "\n",
    "df.tail()"
   ]
  },
  {
   "cell_type": "markdown",
   "metadata": {},
   "source": [
    "### Reading a STATA file and specifying the index column\n",
    "As can be seen in the image above, there's a column named index. We use the parameter *index_col* to set this column as index:"
   ]
  },
  {
   "cell_type": "code",
   "execution_count": null,
   "metadata": {},
   "outputs": [],
   "source": [
    "dtafile = './SimData/FifthDayData.dta'\n",
    "\n",
    "df = pd.read_stata(dtafile, index_col='index')\n",
    "df2 = display( HTML( df.head().style.render()))"
   ]
  },
  {
   "cell_type": "markdown",
   "metadata": {},
   "source": [
    "### Import Stata Files from URLs\n",
    "Here we read a Stata file from a URL:"
   ]
  },
  {
   "cell_type": "code",
   "execution_count": 32,
   "metadata": {},
   "outputs": [
    {
     "data": {
      "text/plain": [
       "<matplotlib.axes._subplots.AxesSubplot at 0x1edf0279588>"
      ]
     },
     "execution_count": 32,
     "metadata": {},
     "output_type": "execute_result"
    },
    {
     "data": {
      "image/png": "[encoded data removed]",
      "text/plain": [
       "<Figure size 432x288 with 1 Axes>"
      ]
     },
     "metadata": {
      "needs_background": "light"
     },
     "output_type": "display_data"
    }
   ],
   "source": [
    "%matplotlib inline\n",
    "url = 'http://www.principlesofeconometrics.com/stata/broiler.dta'\n",
    "\n",
    "df = pd.read_stata(url)\n",
    "df.plot.scatter(x='pchick',\n",
    "                       y='cpi')"
   ]
  },
  {
   "cell_type": "code",
   "execution_count": 30,
   "metadata": {},
   "outputs": [
    {
     "data": {
      "text/html": [
       "<div>\n",
       "<style scoped>\n",
       "    .dataframe tbody tr th:only-of-type {\n",
       "        vertical-align: middle;\n",
       "    }\n",
       "\n",
       "    .dataframe tbody tr th {\n",
       "        vertical-align: top;\n",
       "    }\n",
       "\n",
       "    .dataframe thead th {\n",
       "        text-align: right;\n",
       "    }\n",
       "</style>\n",
       "<table border=\"1\" class=\"dataframe\">\n",
       "  <thead>\n",
       "    <tr style=\"text-align: right;\">\n",
       "      <th></th>\n",
       "      <th>year</th>\n",
       "      <th>q</th>\n",
       "      <th>y</th>\n",
       "      <th>pchick</th>\n",
       "      <th>pbeef</th>\n",
       "      <th>pcor</th>\n",
       "      <th>pf</th>\n",
       "      <th>cpi</th>\n",
       "      <th>qproda</th>\n",
       "      <th>pop</th>\n",
       "      <th>meatex</th>\n",
       "      <th>time</th>\n",
       "    </tr>\n",
       "  </thead>\n",
       "  <tbody>\n",
       "    <tr>\n",
       "      <th>0</th>\n",
       "      <td>1950.0</td>\n",
       "      <td>14.3</td>\n",
       "      <td>7863.0</td>\n",
       "      <td>69.500000</td>\n",
       "      <td>31.200001</td>\n",
       "      <td>59.799999</td>\n",
       "      <td>NaN</td>\n",
       "      <td>24.100000</td>\n",
       "      <td>2628500.0</td>\n",
       "      <td>151.684006</td>\n",
       "      <td>NaN</td>\n",
       "      <td>41.0</td>\n",
       "    </tr>\n",
       "    <tr>\n",
       "      <th>1</th>\n",
       "      <td>1951.0</td>\n",
       "      <td>15.1</td>\n",
       "      <td>7953.0</td>\n",
       "      <td>72.900002</td>\n",
       "      <td>36.500000</td>\n",
       "      <td>72.099998</td>\n",
       "      <td>NaN</td>\n",
       "      <td>26.000000</td>\n",
       "      <td>2843000.0</td>\n",
       "      <td>154.287003</td>\n",
       "      <td>NaN</td>\n",
       "      <td>42.0</td>\n",
       "    </tr>\n",
       "    <tr>\n",
       "      <th>2</th>\n",
       "      <td>1952.0</td>\n",
       "      <td>15.3</td>\n",
       "      <td>8071.0</td>\n",
       "      <td>73.099998</td>\n",
       "      <td>36.200001</td>\n",
       "      <td>71.300003</td>\n",
       "      <td>NaN</td>\n",
       "      <td>26.500000</td>\n",
       "      <td>2851200.0</td>\n",
       "      <td>156.953995</td>\n",
       "      <td>NaN</td>\n",
       "      <td>43.0</td>\n",
       "    </tr>\n",
       "    <tr>\n",
       "      <th>3</th>\n",
       "      <td>1953.0</td>\n",
       "      <td>15.2</td>\n",
       "      <td>8319.0</td>\n",
       "      <td>71.300003</td>\n",
       "      <td>28.500000</td>\n",
       "      <td>62.700001</td>\n",
       "      <td>NaN</td>\n",
       "      <td>26.700001</td>\n",
       "      <td>2953900.0</td>\n",
       "      <td>159.565002</td>\n",
       "      <td>NaN</td>\n",
       "      <td>44.0</td>\n",
       "    </tr>\n",
       "    <tr>\n",
       "      <th>4</th>\n",
       "      <td>1954.0</td>\n",
       "      <td>15.8</td>\n",
       "      <td>8276.0</td>\n",
       "      <td>64.400002</td>\n",
       "      <td>27.400000</td>\n",
       "      <td>63.400002</td>\n",
       "      <td>NaN</td>\n",
       "      <td>26.900000</td>\n",
       "      <td>3099700.0</td>\n",
       "      <td>162.391006</td>\n",
       "      <td>NaN</td>\n",
       "      <td>45.0</td>\n",
       "    </tr>\n",
       "  </tbody>\n",
       "</table>\n",
       "</div>"
      ],
      "text/plain": [
       "     year     q       y     pchick      pbeef       pcor  pf        cpi  \\\n",
       "0  1950.0  14.3  7863.0  69.500000  31.200001  59.799999 NaN  24.100000   \n",
       "1  1951.0  15.1  7953.0  72.900002  36.500000  72.099998 NaN  26.000000   \n",
       "2  1952.0  15.3  8071.0  73.099998  36.200001  71.300003 NaN  26.500000   \n",
       "3  1953.0  15.2  8319.0  71.300003  28.500000  62.700001 NaN  26.700001   \n",
       "4  1954.0  15.8  8276.0  64.400002  27.400000  63.400002 NaN  26.900000   \n",
       "\n",
       "      qproda         pop  meatex  time  \n",
       "0  2628500.0  151.684006     NaN  41.0  \n",
       "1  2843000.0  154.287003     NaN  42.0  \n",
       "2  2851200.0  156.953995     NaN  43.0  \n",
       "3  2953900.0  159.565002     NaN  44.0  \n",
       "4  3099700.0  162.391006     NaN  45.0  "
      ]
     },
     "execution_count": 30,
     "metadata": {},
     "output_type": "execute_result"
    }
   ],
   "source": [
    "url = 'http://www.principlesofeconometrics.com/stata/broiler.dta'\n",
    "\n",
    "df.head()"
   ]
  },
  {
   "cell_type": "code",
   "execution_count": 25,
   "metadata": {},
   "outputs": [
    {
     "data": {
      "text/html": [
       "<div>\n",
       "<style scoped>\n",
       "    .dataframe tbody tr th:only-of-type {\n",
       "        vertical-align: middle;\n",
       "    }\n",
       "\n",
       "    .dataframe tbody tr th {\n",
       "        vertical-align: top;\n",
       "    }\n",
       "\n",
       "    .dataframe thead th {\n",
       "        text-align: right;\n",
       "    }\n",
       "</style>\n",
       "<table border=\"1\" class=\"dataframe\">\n",
       "  <thead>\n",
       "    <tr style=\"text-align: right;\">\n",
       "      <th></th>\n",
       "      <th>year</th>\n",
       "      <th>q</th>\n",
       "      <th>y</th>\n",
       "      <th>pchick</th>\n",
       "      <th>pcor</th>\n",
       "    </tr>\n",
       "  </thead>\n",
       "  <tbody>\n",
       "    <tr>\n",
       "      <th>0</th>\n",
       "      <td>1950.0</td>\n",
       "      <td>14.3</td>\n",
       "      <td>7863.0</td>\n",
       "      <td>69.500000</td>\n",
       "      <td>59.799999</td>\n",
       "    </tr>\n",
       "    <tr>\n",
       "      <th>1</th>\n",
       "      <td>1951.0</td>\n",
       "      <td>15.1</td>\n",
       "      <td>7953.0</td>\n",
       "      <td>72.900002</td>\n",
       "      <td>72.099998</td>\n",
       "    </tr>\n",
       "    <tr>\n",
       "      <th>2</th>\n",
       "      <td>1952.0</td>\n",
       "      <td>15.3</td>\n",
       "      <td>8071.0</td>\n",
       "      <td>73.099998</td>\n",
       "      <td>71.300003</td>\n",
       "    </tr>\n",
       "    <tr>\n",
       "      <th>3</th>\n",
       "      <td>1953.0</td>\n",
       "      <td>15.2</td>\n",
       "      <td>8319.0</td>\n",
       "      <td>71.300003</td>\n",
       "      <td>62.700001</td>\n",
       "    </tr>\n",
       "    <tr>\n",
       "      <th>4</th>\n",
       "      <td>1954.0</td>\n",
       "      <td>15.8</td>\n",
       "      <td>8276.0</td>\n",
       "      <td>64.400002</td>\n",
       "      <td>63.400002</td>\n",
       "    </tr>\n",
       "  </tbody>\n",
       "</table>\n",
       "</div>"
      ],
      "text/plain": [
       "     year     q       y     pchick       pcor\n",
       "0  1950.0  14.3  7863.0  69.500000  59.799999\n",
       "1  1951.0  15.1  7953.0  72.900002  72.099998\n",
       "2  1952.0  15.3  8071.0  73.099998  71.300003\n",
       "3  1953.0  15.2  8319.0  71.300003  62.700001\n",
       "4  1954.0  15.8  8276.0  64.400002  63.400002"
      ]
     },
     "execution_count": 25,
     "metadata": {},
     "output_type": "execute_result"
    }
   ],
   "source": [
    "url = 'http://www.principlesofeconometrics.com/stata/broiler.dta'\n",
    "\n",
    "cols = ['year', 'q', 'y',\n",
    "       'pchick', 'pcor']\n",
    "\n",
    "df = pd.read_stata(url, columns=cols)\n",
    "df.head()\n"
   ]
  },
  {
   "cell_type": "markdown",
   "metadata": {},
   "source": [
    "## Save a Stata File\n",
    "In this example, we are going to use Pandas to_stata to save a .dta file to our harddrive. "
   ]
  },
  {
   "cell_type": "code",
   "execution_count": 26,
   "metadata": {},
   "outputs": [],
   "source": [
    "pyreadstat.write_dta(df, 'broilerdata_edited.dta')"
   ]
  },
  {
   "cell_type": "code",
   "execution_count": null,
   "metadata": {},
   "outputs": [],
   "source": [
    "df.to_csv('broilerdata_edited.dta')"
   ]
  },
  {
   "cell_type": "markdown",
   "metadata": {},
   "source": [
    "## Save an CSV  file as a Stata File\n",
    "To save a .csv file as a stata file we just use read_csv and to_stata:"
   ]
  },
  {
   "cell_type": "code",
   "execution_count": null,
   "metadata": {
    "scrolled": true
   },
   "outputs": [],
   "source": [
    "df = pd.read_csv(\"./SimData/FifthDayData.csv\")\n",
    "df.to_stata(\"./SimData/FifthDayData.dta\")"
   ]
  },
  {
   "cell_type": "markdown",
   "metadata": {},
   "source": [
    "## Save an Excel file as a Stata File\n",
    "To save a .xlsx file as a stata file we just use read_excel and, again, to_stata:"
   ]
  },
  {
   "cell_type": "code",
   "execution_count": null,
   "metadata": {},
   "outputs": [],
   "source": [
    "df = pd.read_excel(\"./SimData/example_concat.xlsx\")\n",
    "df.to_stata(\"./SimData/example_concat.dta\")"
   ]
  },
  {
   "cell_type": "code",
   "execution_count": null,
   "metadata": {},
   "outputs": [],
   "source": [
    "from IPython.display import display, HTML\n",
    "display( HTML( df.head().style.render()))"
   ]
  },
  {
   "cell_type": "code",
   "execution_count": null,
   "metadata": {},
   "outputs": [],
   "source": [
    "import os\n",
    "import time\n",
    "from selenium import webdriver\n",
    " \n",
    "#Via https://stackoverflow.com/a/52572919/454773\n",
    "def setup_screenshot(driver,path):\n",
    "\n",
    "    # Ref: https://stackoverflow.com/a/52572919/\n",
    "    original_size = driver.get_window_size()\n",
    "    required_width = driver.execute_script('return document.body.parentNode.scrollWidth')\n",
    "    required_height = driver.execute_script('return document.body.parentNode.scrollHeight')\n",
    "    driver.set_window_size(required_width, required_height)\n",
    "    # driver.save_screenshot(path)  # has scrollbar\n",
    "    driver.find_element_by_tag_name('body').screenshot(path)  # avoids scrollbar\n",
    "    driver.set_window_size(original_size['width'], original_size['height'])\n",
    " \n",
    "\n",
    "def getTableImage(url, fn='dummy_table', basepath='.', path='.', delay=5, height=420, width=800):\n",
    "    ''' Render HTML file in browser and grab a screenshot. '''\n",
    "    browser = webdriver.Chrome()\n",
    " \n",
    "    browser.get(url)\n",
    "    #Give the html some time to load\n",
    "    time.sleep(delay)\n",
    "    imgpath='{}/{}.png'.format(path,fn)\n",
    "    imgfn = '{}/{}'.format(basepath, imgpath)\n",
    "    imgfile = '{}/{}'.format(os.getcwd(),imgfn)\n",
    " \n",
    "    setup_screenshot(browser,imgfile)\n",
    "    browser.quit()\n",
    "    os.remove(imgfile.replace('.png','.html'))\n",
    "    #print(imgfn)\n",
    "    return imgpath\n",
    " \n",
    "def getTablePNG(tablehtml, basepath='.', path='testpng', fnstub='testhtml'):\n",
    "    ''' Save HTML table as: {basepath}/{path}/{fnstub}.png '''\n",
    "    if not os.path.exists(path):\n",
    "        os.makedirs('{}/{}'.format(basepath, path))\n",
    "    fn='{cwd}/{basepath}/{path}/{fn}.html'.format(cwd=os.getcwd(), basepath=basepath, path=path,fn=fnstub)\n",
    "    tmpurl='file://{fn}'.format(fn=fn)\n",
    "    with open(fn, 'w') as out:\n",
    "        out.write(tablehtml)\n",
    "    return getTableImage(tmpurl, fnstub, basepath, path)\n",
    " \n",
    "getTablePNG(display( HTML( df.head().style.render())), path=\".\")\n",
    "#where s is a string containing html, eg s = df.style.render()"
   ]
  },
  {
   "cell_type": "code",
   "execution_count": null,
   "metadata": {},
   "outputs": [],
   "source": [
    "df1"
   ]
  },
  {
   "cell_type": "code",
   "execution_count": 27,
   "metadata": {},
   "outputs": [
    {
     "name": "stdout",
     "output_type": "stream",
     "text": [
      "Help on method to_stata in module pandas.core.frame:\n",
      "\n",
      "to_stata(fname, convert_dates=None, write_index=True, encoding='latin-1', byteorder=None, time_stamp=None, data_label=None, variable_labels=None, version=114, convert_strl=None) method of pandas.core.frame.DataFrame instance\n",
      "    Export DataFrame object to Stata dta format.\n",
      "    \n",
      "    Writes the DataFrame to a Stata dataset file.\n",
      "    \"dta\" files contain a Stata dataset.\n",
      "    \n",
      "    Parameters\n",
      "    ----------\n",
      "    fname : str, buffer or path object\n",
      "        String, path object (pathlib.Path or py._path.local.LocalPath) or\n",
      "        object implementing a binary write() function. If using a buffer\n",
      "        then the buffer will not be automatically closed after the file\n",
      "        data has been written.\n",
      "    convert_dates : dict\n",
      "        Dictionary mapping columns containing datetime types to stata\n",
      "        internal format to use when writing the dates. Options are 'tc',\n",
      "        'td', 'tm', 'tw', 'th', 'tq', 'ty'. Column can be either an integer\n",
      "        or a name. Datetime columns that do not have a conversion type\n",
      "        specified will be converted to 'tc'. Raises NotImplementedError if\n",
      "        a datetime column has timezone information.\n",
      "    write_index : bool\n",
      "        Write the index to Stata dataset.\n",
      "    encoding : str\n",
      "        Default is latin-1. Unicode is not supported.\n",
      "    byteorder : str\n",
      "        Can be \">\", \"<\", \"little\", or \"big\". default is `sys.byteorder`.\n",
      "    time_stamp : datetime\n",
      "        A datetime to use as file creation date.  Default is the current\n",
      "        time.\n",
      "    data_label : str, optional\n",
      "        A label for the data set.  Must be 80 characters or smaller.\n",
      "    variable_labels : dict\n",
      "        Dictionary containing columns as keys and variable labels as\n",
      "        values. Each label must be 80 characters or smaller.\n",
      "    \n",
      "        .. versionadded:: 0.19.0\n",
      "    \n",
      "    version : {114, 117}, default 114\n",
      "        Version to use in the output dta file.  Version 114 can be used\n",
      "        read by Stata 10 and later.  Version 117 can be read by Stata 13\n",
      "        or later. Version 114 limits string variables to 244 characters or\n",
      "        fewer while 117 allows strings with lengths up to 2,000,000\n",
      "        characters.\n",
      "    \n",
      "        .. versionadded:: 0.23.0\n",
      "    \n",
      "    convert_strl : list, optional\n",
      "        List of column names to convert to string columns to Stata StrL\n",
      "        format. Only available if version is 117.  Storing strings in the\n",
      "        StrL format can produce smaller dta files if strings have more than\n",
      "        8 characters and values are repeated.\n",
      "    \n",
      "        .. versionadded:: 0.23.0\n",
      "    \n",
      "    Raises\n",
      "    ------\n",
      "    NotImplementedError\n",
      "        * If datetimes contain timezone information\n",
      "        * Column dtype is not representable in Stata\n",
      "    ValueError\n",
      "        * Columns listed in convert_dates are neither datetime64[ns]\n",
      "          or datetime.datetime\n",
      "        * Column listed in convert_dates is not in DataFrame\n",
      "        * Categorical label contains more than 32,000 characters\n",
      "    \n",
      "        .. versionadded:: 0.19.0\n",
      "    \n",
      "    See Also\n",
      "    --------\n",
      "    read_stata : Import Stata data files.\n",
      "    io.stata.StataWriter : Low-level writer for Stata data files.\n",
      "    io.stata.StataWriter117 : Low-level writer for version 117 files.\n",
      "    \n",
      "    Examples\n",
      "    --------\n",
      "    >>> df = pd.DataFrame({'animal': ['falcon', 'parrot', 'falcon',\n",
      "    ...                               'parrot'],\n",
      "    ...                    'speed': [350, 18, 361, 15]})\n",
      "    >>> df.to_stata('animals.dta')  # doctest: +SKIP\n",
      "\n"
     ]
    }
   ],
   "source": [
    "df.to_stata('broilerdata_edited.dta')"
   ]
  },
  {
   "cell_type": "code",
   "execution_count": null,
   "metadata": {},
   "outputs": [],
   "source": []
  }
 ],
 "metadata": {
  "kernelspec": {
   "display_name": "Python 3",
   "language": "python",
   "name": "python3"
  },
  "language_info": {
   "codemirror_mode": {
    "name": "ipython",
    "version": 3
   },
   "file_extension": ".py",
   "mimetype": "text/x-python",
   "name": "python",
   "nbconvert_exporter": "python",
   "pygments_lexer": "ipython3",
   "version": "3.7.3"
  }
 },
 "nbformat": 4,
 "nbformat_minor": 2
}
