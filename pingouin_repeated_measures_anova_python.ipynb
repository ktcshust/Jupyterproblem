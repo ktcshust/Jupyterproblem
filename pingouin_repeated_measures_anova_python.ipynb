{
 "cells": [
  {
   "cell_type": "markdown",
   "metadata": {},
   "source": [
    "## RM ANOVA in Python"
   ]
  },
  {
   "cell_type": "code",
   "execution_count": 2,
   "metadata": {},
   "outputs": [
    {
     "data": {
      "text/html": [
       "<div>\n",
       "<style scoped>\n",
       "    .dataframe tbody tr th:only-of-type {\n",
       "        vertical-align: middle;\n",
       "    }\n",
       "\n",
       "    .dataframe tbody tr th {\n",
       "        vertical-align: top;\n",
       "    }\n",
       "\n",
       "    .dataframe thead th {\n",
       "        text-align: right;\n",
       "    }\n",
       "</style>\n",
       "<table border=\"1\" class=\"dataframe\">\n",
       "  <thead>\n",
       "    <tr style=\"text-align: right;\">\n",
       "      <th></th>\n",
       "      <th>Sub_id</th>\n",
       "      <th>rt</th>\n",
       "      <th>iv1</th>\n",
       "      <th>iv2</th>\n",
       "    </tr>\n",
       "  </thead>\n",
       "  <tbody>\n",
       "    <tr>\n",
       "      <th>0</th>\n",
       "      <td>1</td>\n",
       "      <td>1082.986553</td>\n",
       "      <td>noise</td>\n",
       "      <td>down</td>\n",
       "    </tr>\n",
       "    <tr>\n",
       "      <th>1</th>\n",
       "      <td>2</td>\n",
       "      <td>938.799689</td>\n",
       "      <td>noise</td>\n",
       "      <td>down</td>\n",
       "    </tr>\n",
       "    <tr>\n",
       "      <th>2</th>\n",
       "      <td>3</td>\n",
       "      <td>1101.470970</td>\n",
       "      <td>noise</td>\n",
       "      <td>down</td>\n",
       "    </tr>\n",
       "    <tr>\n",
       "      <th>3</th>\n",
       "      <td>4</td>\n",
       "      <td>1123.030275</td>\n",
       "      <td>noise</td>\n",
       "      <td>down</td>\n",
       "    </tr>\n",
       "    <tr>\n",
       "      <th>4</th>\n",
       "      <td>5</td>\n",
       "      <td>938.051589</td>\n",
       "      <td>noise</td>\n",
       "      <td>down</td>\n",
       "    </tr>\n",
       "  </tbody>\n",
       "</table>\n",
       "</div>"
      ],
      "text/plain": [
       "   Sub_id           rt    iv1   iv2\n",
       "0       1  1082.986553  noise  down\n",
       "1       2   938.799689  noise  down\n",
       "2       3  1101.470970  noise  down\n",
       "3       4  1123.030275  noise  down\n",
       "4       5   938.051589  noise  down"
      ]
     },
     "execution_count": 2,
     "metadata": {},
     "output_type": "execute_result"
    }
   ],
   "source": [
    "import pandas as pd\n",
    "import pingouin as pg\n",
    "\n",
    "url = 'https://raw.githubusercontent.com/marsja/jupyter/master/Python_ANOVA/rmAOV2way.csv'\n",
    "df = pd.read_csv(url)\n",
    "df.head()"
   ]
  },
  {
   "cell_type": "markdown",
   "metadata": {},
   "source": [
    "### One-Way ANOVA"
   ]
  },
  {
   "cell_type": "code",
   "execution_count": 3,
   "metadata": {},
   "outputs": [
    {
     "name": "stdout",
     "output_type": "stream",
     "text": [
      "  Source          SS  DF          MS        F        p-unc    np2 eps\n",
      "0    iv1  8061895.94   1  8061895.94  2207.02  1.90585e-48  0.974   1\n",
      "1  Error   215518.06  59     3652.85        -            -      -   -\n"
     ]
    }
   ],
   "source": [
    "aov = pg.rm_anova(dv='rt', within='iv1',\n",
    "                   subject='Sub_id', data=df, detailed=True)\n",
    "print(aov.round(2))"
   ]
  },
  {
   "cell_type": "markdown",
   "metadata": {},
   "source": [
    "### Two-Way ANOVA"
   ]
  },
  {
   "cell_type": "code",
   "execution_count": 4,
   "metadata": {},
   "outputs": [
    {
     "name": "stdout",
     "output_type": "stream",
     "text": [
      "      Source           SS  ddof1  ddof2           MS        F  p-unc  \\\n",
      "0        iv1  24185687.82      1     59  24185687.82  2207.02   0.00   \n",
      "1        iv2   4836438.74      2    118   2418219.37   275.41   0.00   \n",
      "2  iv1 * iv2     39246.50      2    118     19623.25     1.86   0.16   \n",
      "\n",
      "   p-GG-corr   np2   eps  \n",
      "0       0.00  0.97  1.00  \n",
      "1       0.00  0.82  0.99  \n",
      "2       0.16  0.03  0.99  \n"
     ]
    }
   ],
   "source": [
    " aov = pg.rm_anova(dv='rt',\n",
    "                   within=['iv1', 'iv2'],\n",
    "                   subject='Sub_id', data=df)\n",
    "print(aov.round(2))"
   ]
  },
  {
   "cell_type": "markdown",
   "metadata": {},
   "source": [
    "### Interaction Plot"
   ]
  },
  {
   "cell_type": "code",
   "execution_count": 5,
   "metadata": {},
   "outputs": [
    {
     "data": {
      "image/png": "[encoded data removed]",
      "text/plain": [
       "<Figure size 432x288 with 1 Axes>"
      ]
     },
     "metadata": {
      "needs_background": "light"
     },
     "output_type": "display_data"
    }
   ],
   "source": [
    "%matplotlib inline\n",
    "import seaborn as sns\n",
    "\n",
    "\n",
    "ax = sns.pointplot(x=\"iv1\", y=\"rt\", hue=\"iv2\",\n",
    "                    data=df)"
   ]
  },
  {
   "cell_type": "code",
   "execution_count": null,
   "metadata": {},
   "outputs": [],
   "source": []
  }
 ],
 "metadata": {
  "kernelspec": {
   "display_name": "Python 3",
   "language": "python",
   "name": "python3"
  },
  "language_info": {
   "codemirror_mode": {
    "name": "ipython",
    "version": 3
   },
   "file_extension": ".py",
   "mimetype": "text/x-python",
   "name": "python",
   "nbconvert_exporter": "python",
   "pygments_lexer": "ipython3",
   "version": "3.7.1"
  }
 },
 "nbformat": 4,
 "nbformat_minor": 2
}
