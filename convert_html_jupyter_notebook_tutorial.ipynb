{
 "cells": [
  {
   "cell_type": "markdown",
   "metadata": {},
   "source": [
    "## How to Convert HTML to .ipynb\n",
    "This is the code example used for the blog post [https://www.marsja.se/converting-html-to-a-jupyter-notebook/](https://www.marsja.se/converting-html-to-a-jupyter-notebook/) in which we learn how to convert code chunks from a webpage to a Jupyter notebook."
   ]
  },
  {
   "cell_type": "code",
   "execution_count": 1,
   "metadata": {},
   "outputs": [],
   "source": [
    "from bs4 import BeautifulSoup\n",
    "import json\n",
    "import urllib\n",
    "\n",
    "url = 'https://www.marsja.se/python-manova-made-easy-using-statsmodels/'\n",
    "\n",
    "headers = {'User-Agent': 'Mozilla/5.0 (X11; Linux x86_64) AppleWebKit/537.11'\\\n",
    "           '(KHTML, like Gecko) Chrome/23.0.1271.64 Safari/537.11',\n",
    "       'Accept': 'text/html,application/xhtml+xml,application/xml;q=0.9,*/*;q=0.8',\n",
    "       'Accept-Charset': 'ISO-8859-1,utf-8;q=0.7,*;q=0.3',\n",
    "       'Accept-Encoding': 'none',\n",
    "       'Accept-Language': 'en-US,en;q=0.8',\n",
    "       'Connection': 'keep-alive'}"
   ]
  },
  {
   "cell_type": "code",
   "execution_count": 2,
   "metadata": {},
   "outputs": [],
   "source": [
    "req = urllib.request.Request(url, headers=headers)\n",
    "page = urllib.request.urlopen(req)\n",
    "text = page.read()"
   ]
  },
  {
   "cell_type": "code",
   "execution_count": 3,
   "metadata": {},
   "outputs": [],
   "source": [
    "soup = BeautifulSoup(text, 'lxml')"
   ]
  },
  {
   "cell_type": "code",
   "execution_count": 10,
   "metadata": {},
   "outputs": [],
   "source": [
    "create_nb = {'nbformat': 4, 'nbformat_minor': 2, \n",
    "              'cells': [], 'metadata': \n",
    "             {\"kernelspec\": \n",
    "              {\"display_name\": \"Python 3\", \n",
    "               \"language\": \"python\", \"name\": \"python3\"\n",
    "  }}}\n",
    "\n",
    "def get_data(soup, content_class):\n",
    "    for div in soup.find_all('div', \n",
    "                             attrs={'class': content_class}):\n",
    "        \n",
    "        code_chunks = div.find_all('code')\n",
    "        \n",
    "        for chunk in code_chunks:\n",
    "            cell_text = ' '\n",
    "            cell = {}\n",
    "            cell['metadata'] = {}\n",
    "            cell['outputs'] = []\n",
    "            cell['source'] = [chunk.get_text()]\n",
    "            cell['execution_count'] = None\n",
    "            cell['cell_type'] = 'code'\n",
    "            create_nb['cells'].append(cell)\n",
    "\n",
    "get_data(soup, 'post-content')\n",
    "\n",
    "with open('Python_MANOVA.ipynb', 'w') as jynotebook:\n",
    "    jynotebook.write(json.dumps(create_nb))"
   ]
  },
  {
   "cell_type": "code",
   "execution_count": 9,
   "metadata": {},
   "outputs": [
    {
     "data": {
      "text/plain": [
       "{'nbformat': 4,\n",
       " 'nbformat_minor': 2,\n",
       " 'cells': [{'metadata': {},\n",
       "   'outputs': [],\n",
       "   'source': ['import pandas as pd\\nfrom statsmodels.multivariate.manova import MANOVA'],\n",
       "   'execution_count': None,\n",
       "   'cell_type': 'code'},\n",
       "  {'metadata': {},\n",
       "   'outputs': [],\n",
       "   'source': ['url = \\'https://vincentarelbundock.github.io/Rdatasets/csv/datasets/iris.csv\\'\\ndf = pd.read_csv(url, index_col=0)\\ndf.columns = df.columns.str.replace(\".\", \"_\")\\ndf.head()'],\n",
       "   'execution_count': None,\n",
       "   'cell_type': 'code'},\n",
       "  {'metadata': {},\n",
       "   'outputs': [],\n",
       "   'source': [\"maov = MANOVA.from_formula('Sepal_Length + Sepal_Width + \\\\\\n                            Petal_Length + Petal_Width  ~ Species', data=df)\"],\n",
       "   'execution_count': None,\n",
       "   'cell_type': 'code'},\n",
       "  {'metadata': {},\n",
       "   'outputs': [],\n",
       "   'source': ['print(maov.mv_test())'],\n",
       "   'execution_count': None,\n",
       "   'cell_type': 'code'}],\n",
       " 'metadata': {'kernelspec': {'display_name': 'Python 3',\n",
       "   'language': 'python',\n",
       "   'name': 'python3'}}}"
      ]
     },
     "execution_count": 9,
     "metadata": {},
     "output_type": "execute_result"
    }
   ],
   "source": [
    "create_nb"
   ]
  },
  {
   "cell_type": "code",
   "execution_count": null,
   "metadata": {},
   "outputs": [],
   "source": []
  }
 ],
 "metadata": {
  "kernelspec": {
   "display_name": "Python 3",
   "language": "python",
   "name": "python3"
  },
  "language_info": {
   "codemirror_mode": {
    "name": "ipython",
    "version": 3
   },
   "file_extension": ".py",
   "mimetype": "text/x-python",
   "name": "python",
   "nbconvert_exporter": "python",
   "pygments_lexer": "ipython3",
   "version": "3.7.3"
  }
 },
 "nbformat": 4,
 "nbformat_minor": 2
}
