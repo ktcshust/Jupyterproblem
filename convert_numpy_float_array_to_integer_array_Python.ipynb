{
 "cells": [
  {
   "cell_type": "markdown",
   "metadata": {},
   "source": [
    "This is the code examples found in a blog post about converting float to integer array ([https://www.marsja.se/how-to-convert-a-float-array-to-an-integer-array-in-python-with-numpy/](https://www.marsja.se/how-to-convert-a-float-array-to-an-integer-array-in-python-with-numpy/). "
   ]
  },
  {
   "cell_type": "code",
   "execution_count": 1,
   "metadata": {},
   "outputs": [],
   "source": [
    "import numpy as np\n",
    "\n",
    "\n",
    "oned = np.array([0.1, 0.3, 0.4, \n",
    "                 0.6, -1.1, 0.3])\n",
    "\n",
    "twod = np.array([[ 0.3,  1.2,  2.4,  3.1,  4.3],\n",
    "       [ 5.9,  6.8,  7.6,  8.5,  9.2],\n",
    "       [10.11, 11.1, 12.23, 13.2, 14.2],\n",
    "       [15.2, 16.4, 17.1, 18.1, 19.1]])"
   ]
  },
  {
   "cell_type": "code",
   "execution_count": 2,
   "metadata": {},
   "outputs": [
    {
     "data": {
      "text/plain": [
       "array([ 0.1,  0.3,  0.4,  0.6, -1.1,  0.3])"
      ]
     },
     "metadata": {},
     "output_type": "display_data"
    },
    {
     "data": {
      "text/plain": [
       "dtype('float64')"
      ]
     },
     "metadata": {},
     "output_type": "display_data"
    }
   ],
   "source": [
    "display(oned)\n",
    "display(oned.dtype)"
   ]
  },
  {
   "cell_type": "markdown",
   "metadata": {},
   "source": [
    "## Converting a Float Array to Int\n",
    "Here's how to convert the float array to an integer array:"
   ]
  },
  {
   "cell_type": "code",
   "execution_count": 3,
   "metadata": {},
   "outputs": [
    {
     "data": {
      "text/plain": [
       "array([ 0,  0,  0,  0, -1,  0])"
      ]
     },
     "metadata": {},
     "output_type": "display_data"
    },
    {
     "data": {
      "text/plain": [
       "dtype('int32')"
      ]
     },
     "metadata": {},
     "output_type": "display_data"
    }
   ],
   "source": [
    "# convert array to integer python\n",
    "oned_int = oned.astype(int)\n",
    "display(oned_int)\n",
    "display(oned_int.dtype)"
   ]
  },
  {
   "cell_type": "markdown",
   "metadata": {},
   "source": [
    "## 2-d Array\n",
    "The same method, as above, can be applied to a n-way array. Here's how to do it on a 2-d array:"
   ]
  },
  {
   "cell_type": "code",
   "execution_count": 4,
   "metadata": {},
   "outputs": [
    {
     "data": {
      "text/plain": [
       "array([[ 0,  1,  2,  3,  4],\n",
       "       [ 5,  6,  7,  8,  9],\n",
       "       [10, 11, 12, 13, 14],\n",
       "       [15, 16, 17, 18, 19]])"
      ]
     },
     "metadata": {},
     "output_type": "display_data"
    },
    {
     "data": {
      "text/plain": [
       "dtype('int32')"
      ]
     },
     "metadata": {},
     "output_type": "display_data"
    }
   ],
   "source": [
    "twod_int = twod.astype(int)\n",
    "display(twod_int)\n",
    "display(twod_int.dtype)"
   ]
  },
  {
   "cell_type": "markdown",
   "metadata": {},
   "source": [
    "## Rounding Before Converting\n",
    "Here's how to round the numbers BEFORE converting the float numbers to integer:"
   ]
  },
  {
   "cell_type": "code",
   "execution_count": 5,
   "metadata": {},
   "outputs": [
    {
     "data": {
      "text/plain": [
       "array([ 0,  0,  0,  1, -1,  0])"
      ]
     },
     "metadata": {},
     "output_type": "display_data"
    },
    {
     "data": {
      "text/plain": [
       "dtype('int32')"
      ]
     },
     "metadata": {},
     "output_type": "display_data"
    }
   ],
   "source": [
    "oned = np.array([0.1, 0.3, 0.4, \n",
    "                 0.6, -1.1, 0.3])\n",
    "\n",
    "oned = np.around(oned)\n",
    "\n",
    "# numpy convert to int\n",
    "oned_int = oned.astype(int)\n",
    "display(oned_int)\n",
    "display(oned_int.dtype)"
   ]
  },
  {
   "cell_type": "markdown",
   "metadata": {},
   "source": [
    "## Ceil:"
   ]
  },
  {
   "cell_type": "code",
   "execution_count": 6,
   "metadata": {},
   "outputs": [
    {
     "data": {
      "text/plain": [
       "array([ 1,  1,  1,  1, -1,  1])"
      ]
     },
     "metadata": {},
     "output_type": "display_data"
    },
    {
     "data": {
      "text/plain": [
       "dtype('int32')"
      ]
     },
     "metadata": {},
     "output_type": "display_data"
    }
   ],
   "source": [
    "oned = np.array([0.1, 0.3, 0.4, \n",
    "                 0.6, -1.1, 0.3])\n",
    "\n",
    "oned = np.ceil(oned)\n",
    "\n",
    "# numpy float to int \n",
    "oned_int = oned.astype(int)\n",
    "display(oned_int)\n",
    "display(oned_int.dtype)"
   ]
  },
  {
   "cell_type": "markdown",
   "metadata": {},
   "source": [
    "## Floor:"
   ]
  },
  {
   "cell_type": "code",
   "execution_count": 7,
   "metadata": {},
   "outputs": [
    {
     "data": {
      "text/plain": [
       "array([ 0,  0,  0,  0, -2,  0])"
      ]
     },
     "metadata": {},
     "output_type": "display_data"
    },
    {
     "data": {
      "text/plain": [
       "dtype('int32')"
      ]
     },
     "metadata": {},
     "output_type": "display_data"
    }
   ],
   "source": [
    "oned = np.array([0.1, 0.3, 0.4, \n",
    "                 0.6, -1.1, 0.3])\n",
    "\n",
    "oned = np.floor(oned)\n",
    "\n",
    "# numpy float to int \n",
    "oned_int = oned.astype(int)\n",
    "display(oned_int)\n",
    "display(oned_int.dtype)"
   ]
  },
  {
   "cell_type": "code",
   "execution_count": null,
   "metadata": {},
   "outputs": [],
   "source": []
  }
 ],
 "metadata": {
  "kernelspec": {
   "display_name": "Python 3",
   "language": "python",
   "name": "python3"
  },
  "language_info": {
   "codemirror_mode": {
    "name": "ipython",
    "version": 3
   },
   "file_extension": ".py",
   "mimetype": "text/x-python",
   "name": "python",
   "nbconvert_exporter": "python",
   "pygments_lexer": "ipython3",
   "version": "3.8.3"
  }
 },
 "nbformat": 4,
 "nbformat_minor": 4
}
